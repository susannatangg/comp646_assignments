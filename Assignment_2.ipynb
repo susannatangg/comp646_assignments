{
  "cells": [
    {
      "cell_type": "markdown",
      "metadata": {
        "id": "view-in-github",
        "colab_type": "text"
      },
      "source": [
        "<a href=\"https://colab.research.google.com/github/susannatangg/comp646_assignments/blob/main/Assignment_2.ipynb\" target=\"_parent\"><img src=\"https://colab.research.google.com/assets/colab-badge.svg\" alt=\"Open In Colab\"/></a>"
      ]
    },
    {
      "cell_type": "markdown",
      "metadata": {
        "id": "9_7m6iQC_usY"
      },
      "source": [
        "## **Image Question Answering with Shapes [10pts + 2 extra]**"
      ]
    },
    {
      "cell_type": "markdown",
      "metadata": {
        "id": "g7EzJcvk-D5T"
      },
      "source": [
        "### **0. Loading resources and installing extra libraries**"
      ]
    },
    {
      "cell_type": "code",
      "execution_count": 1,
      "metadata": {
        "id": "_gROwKkH9Qoe"
      },
      "outputs": [],
      "source": [
        "!pip install -q livelossplot\n",
        "!wget -qnc https://www.cs.rice.edu/~vo9/deep-vislang/ShapesQA_trainset.zip\n",
        "!unzip -q ShapesQA_trainset.zip\n",
        "!mv synthetic_shapes_dataset ShapesQA_trainset\n",
        "!wget -qnc https://www.cs.rice.edu/~vo9/deep-vislang/ShapesQA_valset.zip\n",
        "!unzip -q ShapesQA_valset.zip\n",
        "!mv synthetic_shapes_dataset ShapesQA_valset"
      ]
    },
    {
      "cell_type": "markdown",
      "metadata": {
        "id": "ukx8TClRus_9"
      },
      "source": [
        "### **1. Defining a Dataset class**\n",
        "\n",
        "For this assignment we have created a novel dataset called ShapesQA which is a question answering dataset about images with simple geometric shapes consisting of triangles, circles and squares. The goal is to build a model that can answer questions for this dataset using all the tools at our disposal including for representing images and text."
      ]
    },
    {
      "cell_type": "code",
      "execution_count": 59,
      "metadata": {
        "colab": {
          "base_uri": "https://localhost:8080/"
        },
        "id": "SRKnMv8nvQUT",
        "outputId": "4d9a3f2c-c3f3-4160-8bc1-14113d188c2c"
      },
      "outputs": [
        {
          "output_type": "stream",
          "name": "stdout",
          "text": [
            "Num training images:  1000\n",
            "Num validation images:  1000\n"
          ]
        }
      ],
      "source": [
        "import torch, json, random, os\n",
        "from PIL import Image\n",
        "from torch.utils.data import Dataset, DataLoader\n",
        "import torchvision.transforms as transforms\n",
        "import matplotlib.pyplot as plt\n",
        "import numpy as np\n",
        "from transformers import BertTokenizer\n",
        "\n",
        "tokenizer = BertTokenizer.from_pretrained('bert-base-uncased')\n",
        "\n",
        "def tokenize(text):\n",
        "    return tokenizer.encode(text,add_special_tokens=True)\n",
        "\n",
        "class ShapesQADataset(Dataset):\n",
        "    def __init__(self, annotations = \"\",\n",
        "                 image_dir = \"\", vocab = None,\n",
        "                 transform = None,\n",
        "                 max_question_len = 20):\n",
        "        self.annotations = json.load(open(annotations))\n",
        "        self.image_dir = image_dir\n",
        "        self.vocab = vocab\n",
        "        self.transform = transform if transform is not None else transforms.ToTensor()\n",
        "        self.max_question_len = max_question_len\n",
        "        # Define a fixed answer mapping (example: 6 colors, 3 shapes, 6 counts = 15 classes)\n",
        "        self.answer2idx = {\"red\": 0, \"blue\": 1, \"green\": 2, \"yellow\": 3, \"purple\": 4, \"orange\": 5,\n",
        "                      \"circle\": 6, \"square\": 7, \"triangle\": 8,\n",
        "                      \"0\": 9, \"1\": 10, \"2\": 11, \"3\": 12, \"4\": 13, \"5\": 14}\n",
        "        self.idx2answer = {v: k for k, v in self.answer2idx.items()}\n",
        "\n",
        "    def __len__(self):\n",
        "        return len(self.annotations)\n",
        "\n",
        "    def __getitem__(self, idx):\n",
        "        ann = self.annotations[idx]\n",
        "        image_path = os.path.join(self.image_dir, ann[\"image\"])\n",
        "        image = Image.open(image_path).convert(\"RGB\")\n",
        "\n",
        "        # Apply image transformation if specified.\n",
        "        if self.transform:\n",
        "            image = self.transform(image)\n",
        "\n",
        "        question = ann[\"question\"]\n",
        "        # Apply tokenization to input question if specified.\n",
        "        if self.vocab:\n",
        "          tokens = tokenize(question)\n",
        "          indices = [self.vocab.get(token, self.vocab[\"<unk>\"]) for token in tokens]\n",
        "          if len(indices) < self.max_question_len:\n",
        "              indices = indices + [self.vocab[\"<pad>\"]] * (self.max_question_len - len(indices))\n",
        "          else:\n",
        "              indices = indices[:self.max_question_len]\n",
        "          question = torch.tensor(indices, dtype=torch.long)\n",
        "        answer = str(ann[\"answer\"])\n",
        "        label = self.answer2idx.get(answer, 0)\n",
        "        label = torch.tensor(label, dtype=torch.long)\n",
        "\n",
        "        return {\"image\": image, \"question\": question, \"answer\": label, \"question_type\": ann[\"question_type\"]}\n",
        "\n",
        "trainset = ShapesQADataset(annotations=\"ShapesQA_trainset/annotations.json\",\n",
        "                           vocab = None,\n",
        "                           image_dir=\"ShapesQA_trainset\")\n",
        "valset = ShapesQADataset(annotations=\"ShapesQA_valset/annotations.json\",\n",
        "                         vocab = None,\n",
        "                         image_dir=\"ShapesQA_valset\")\n",
        "\n",
        "print(\"Num training images: \", len(trainset))\n",
        "print(\"Num validation images: \", len(valset))"
      ]
    },
    {
      "cell_type": "markdown",
      "metadata": {
        "id": "JHlNW5K7Xk7y"
      },
      "source": [
        "Now let's show a random example from this dataset. Look at many examples by running this code several times to get an idea of the difficulty of the problem."
      ]
    },
    {
      "cell_type": "code",
      "execution_count": 24,
      "metadata": {
        "colab": {
          "base_uri": "https://localhost:8080/",
          "height": 496
        },
        "id": "9dG55WX0Xt_7",
        "outputId": "15f09ac9-b1d1-4de1-fe10-dc2a21863e82"
      },
      "outputs": [
        {
          "output_type": "display_data",
          "data": {
            "text/plain": [
              "<Figure size 500x500 with 1 Axes>"
            ],
            "image/png": "[encoded data removed]"
          },
          "metadata": {}
        },
        {
          "output_type": "stream",
          "name": "stdout",
          "text": [
            "Question: Which color is the object found left of the blue square?\n",
            "Answer: orange\n",
            "Question type: left_right\n"
          ]
        }
      ],
      "source": [
        "def show_sample(sample):\n",
        "    image_tensor = sample[\"image\"]\n",
        "    image_np = image_tensor.permute(1, 2, 0).numpy()\n",
        "    plt.figure(figsize=(5,5))\n",
        "    plt.imshow(image_np); plt.axis(\"off\")\n",
        "    plt.title(\"ShapesQA Sample\"); plt.show()\n",
        "    print(\"Question:\", sample[\"question\"])\n",
        "    print(\"Answer:\", trainset.idx2answer[sample[\"answer\"].item()])\n",
        "    print(\"Question type:\", sample[\"question_type\"])\n",
        "\n",
        "# Display a random sample.\n",
        "sample_idx = random.randint(0, len(valset) - 1)\n",
        "sample = valset[sample_idx]\n",
        "show_sample(sample)"
      ]
    },
    {
      "cell_type": "markdown",
      "metadata": {
        "id": "_O2vNzNa9-Uh"
      },
      "source": [
        "### **2. Defining how batches are loaded**\n",
        "\n",
        "Here we define how data samples are going to be converted to batch tensors when creating a data loader. Another common step in setting up our problem. In this case, text input needs to be handled such that they can be put in batches despite different questions having different lengths in terms of number of words. A common strategy is to tokenize the input, convert to numerical ids for every word by creating a dictionary (vocabulary) and then using special tokens for words outside the vocabulary and for padding the texts so they all end up with the same length in a batch."
      ]
    },
    {
      "cell_type": "code",
      "execution_count": 3,
      "metadata": {
        "id": "SQkr-ATHX2fD",
        "colab": {
          "base_uri": "https://localhost:8080/"
        },
        "outputId": "b236a46d-ab36-403b-8762-bc0277f2d1cf"
      },
      "outputs": [
        {
          "output_type": "stream",
          "name": "stdout",
          "text": [
            "Vocabulary size: 56\n",
            "Image batch shape: torch.Size([32, 3, 512, 512])\n",
            "Question batch shape: torch.Size([32, 20])\n",
            "Answer batch shape: torch.Size([32])\n",
            "Question type shape: ['extreme', 'unique', 'unique', 'count', 'count', 'extreme', 'unique', 'extreme', 'count', 'unique', 'extreme', 'unique', 'unique', 'extreme', 'count', 'count', 'count', 'extreme', 'count', 'left_right', 'extreme', 'count', 'unique', 'extreme', 'extreme', 'left_right', 'extreme', 'count', 'extreme', 'extreme', 'count', 'extreme']\n"
          ]
        }
      ],
      "source": [
        "from collections import Counter\n",
        "from transformers import BertTokenizer\n",
        "\n",
        "tokenizer = BertTokenizer.from_pretrained('bert-base-uncased')\n",
        "\n",
        "def tokenize(text):\n",
        "    # Tokenizing using the BertTokenizer\n",
        "    return tokenizer.encode(text,add_special_tokens=True)\n",
        "\n",
        "def build_vocab(questions, min_freq=1):\n",
        "    \"\"\"Builds a word2idx dictionary from a list of question strings.\"\"\"\n",
        "    counter = Counter()\n",
        "    for q in questions:\n",
        "        tokens = tokenize(q)\n",
        "        counter.update(tokens)\n",
        "    # Reserve index 0 for <pad> and 1 for <unk>\n",
        "    vocab = {\"<pad>\": 0, \"<unk>\": 1}\n",
        "    for word, freq in counter.items():\n",
        "        if freq >= min_freq:\n",
        "            vocab[word] = len(vocab)\n",
        "    return vocab\n",
        "\n",
        "# The collate_fn is a special function in pytorch to indicate how batches\n",
        "# should be assembled.\n",
        "def collate_fn(batch):\n",
        "    images = torch.stack([item[\"image\"] for item in batch], dim=0)\n",
        "    questions = torch.stack([item[\"question\"] for item in batch], dim=0)\n",
        "    answers = torch.stack([item[\"answer\"] for item in batch], dim=0)\n",
        "    # Collect question types as a list of strings.\n",
        "    question_types = [item[\"question_type\"] for item in batch]\n",
        "    return {\"image\": images, \"question\": questions, \"answer\": answers, \"question_type\": question_types}\n",
        "\n",
        "\n",
        "train_annotations = json.load(open(\"ShapesQA_trainset/annotations.json\"))\n",
        "all_train_questions = [ann[\"question\"] for ann in train_annotations]\n",
        "vocab = build_vocab(all_train_questions, min_freq=1)\n",
        "vocab_size = len(vocab)\n",
        "print(\"Vocabulary size:\", vocab_size)\n",
        "\n",
        "# Sample code for loading one batch.\n",
        "trainset = ShapesQADataset(annotations=\"ShapesQA_trainset/annotations.json\",\n",
        "                           vocab = vocab,\n",
        "                           image_dir=\"ShapesQA_trainset\")\n",
        "train_loader = DataLoader(trainset, batch_size=32, shuffle=True, collate_fn=collate_fn)\n",
        "for batch in train_loader:\n",
        "    images = batch[\"image\"]\n",
        "    questions = batch[\"question\"]\n",
        "    answers = batch[\"answer\"]\n",
        "    question_types = batch[\"question_type\"]\n",
        "    print(\"Image batch shape:\", images.shape)\n",
        "    print(\"Question batch shape:\", questions.shape)\n",
        "    print(\"Answer batch shape:\", answers.shape)\n",
        "    print(\"Question type shape:\", question_types)\n",
        "    break\n"
      ]
    },
    {
      "cell_type": "markdown",
      "metadata": {
        "id": "zXO4YzsZ-nsb"
      },
      "source": [
        "### **3. Defining a model to solve this problem [1pt]**\n",
        "\n",
        "Create a model to solve this problem. This model takes as input a batch of texts (questions) and images, and outputs an answer."
      ]
    },
    {
      "cell_type": "code",
      "execution_count": 50,
      "metadata": {
        "colab": {
          "base_uri": "https://localhost:8080/",
          "height": 191,
          "referenced_widgets": [
            "3fdfc9da86fd4796885dd5c1aadbd3ea",
            "8df2006ae9f0464dbd86dfdccb40a033",
            "f639fe5db3354a459103fbc35065ff20",
            "6afd315714fe45678537e38c8c143232",
            "79652d4981a54f86bed68125705cc19d",
            "7ed5cdb7f99c4ade92307dd54df786a0",
            "5c0a979524114f3895f59a461315de4a",
            "920ddf62ca8d43c1b19333bc489a6a5c",
            "233dda0a3d7b4594b218bc13b22d3488",
            "9f5943243e0b4bb3b9a4983006c628e4",
            "9147451148c141d38cee489cb7b18221"
          ]
        },
        "id": "1iReykJG-vyZ",
        "outputId": "59cdacd0-762c-40fc-a8a3-abba1bb599b3"
      },
      "outputs": [
        {
          "output_type": "display_data",
          "data": {
            "text/plain": [
              "model.safetensors:   0%|          | 0.00/440M [00:00<?, ?B/s]"
            ],
            "application/vnd.jupyter.widget-view+json": {
              "version_major": 2,
              "version_minor": 0,
              "model_id": "3fdfc9da86fd4796885dd5c1aadbd3ea"
            }
          },
          "metadata": {}
        },
        {
          "output_type": "stream",
          "name": "stderr",
          "text": [
            "/usr/local/lib/python3.11/dist-packages/torchvision/models/_utils.py:208: UserWarning: The parameter 'pretrained' is deprecated since 0.13 and may be removed in the future, please use 'weights' instead.\n",
            "  warnings.warn(\n",
            "/usr/local/lib/python3.11/dist-packages/torchvision/models/_utils.py:223: UserWarning: Arguments other than a weight enum or `None` for 'weights' are deprecated since 0.13 and may be removed in the future. The current behavior is equivalent to passing `weights=ResNet18_Weights.IMAGENET1K_V1`. You can also use `weights=ResNet18_Weights.DEFAULT` to get the most up-to-date weights.\n",
            "  warnings.warn(msg)\n",
            "Downloading: \"https://download.pytorch.org/models/resnet18-f37072fd.pth\" to /root/.cache/torch/hub/checkpoints/resnet18-f37072fd.pth\n",
            "100%|██████████| 44.7M/44.7M [00:00<00:00, 162MB/s]\n"
          ]
        },
        {
          "output_type": "stream",
          "name": "stdout",
          "text": [
            "Output shape: torch.Size([32, 15])\n"
          ]
        }
      ],
      "source": [
        "import torch\n",
        "import torch.nn as nn\n",
        "import torch.optim as optim\n",
        "from torch.utils.data import Dataset, DataLoader\n",
        "import torchvision.transforms as transforms\n",
        "import torchvision.models as models\n",
        "from PIL import Image\n",
        "import matplotlib.pyplot as plt\n",
        "import numpy as np\n",
        "from transformers import BertModel, BertTokenizer\n",
        "\n",
        "class VQAModel(nn.Module):\n",
        "    # Feel free to add/adjust parameters here as needed.\n",
        "    def __init__(self, vocab_size, num_answers, embed_dim=300, hidden_dim=512, dropout=0.5):\n",
        "        super(VQAModel, self).__init__()\n",
        "\n",
        "        # Pretrained BERT model\n",
        "        self.bert = BertModel.from_pretrained('bert-base-uncased')\n",
        "        self.bert_fc = nn.Linear(768, hidden_dim)\n",
        "\n",
        "        # Pretrained CNN (ResNet) to extract image features\n",
        "        resnet = models.resnet18(pretrained=True)\n",
        "        self.cnn = nn.Sequential(*list(resnet.children())[:-1])\n",
        "        self.avgpool = nn.AdaptiveAvgPool2d((1, 1))\n",
        "        self.cnn_fc = nn.Linear(512, hidden_dim)\n",
        "\n",
        "        # Dropout and fully connected layer for classification\n",
        "        self.dropout = nn.Dropout(dropout)\n",
        "        self.fc = nn.Linear(hidden_dim * 2, num_answers)\n",
        "\n",
        "    def forward(self, images, questions, attention_mask=None):\n",
        "        #extract image features\n",
        "        img_features = self.cnn(images).squeeze(-1).squeeze(-1)\n",
        "        img_features = self.cnn_fc(img_features)\n",
        "        img_features = self.dropout(img_features)\n",
        "\n",
        "        #encode question using bert\n",
        "        outputs = self.bert(questions, attention_mask=attention_mask)\n",
        "        question_features = outputs.pooler_output\n",
        "        question_features = self.bert_fc(question_features)\n",
        "        question_features = self.dropout(question_features)\n",
        "\n",
        "        #concatenate image and question features\n",
        "        combined_features = torch.cat((img_features, question_features), dim=1)\n",
        "\n",
        "        #output logits (raw predictions)\n",
        "        logits = self.fc(combined_features)\n",
        "        return logits\n",
        "\n",
        "\n",
        "# Example usage using a random dummy input.\n",
        "vocab_size = 1000\n",
        "num_answers = 15  # e.g., 6 colors + 3 shapes + 6 count answers\n",
        "model = VQAModel(vocab_size, num_answers)\n",
        "images = torch.randn(32, 3, 256, 256)  # (batch, channels, height, width)\n",
        "questions = torch.randint(0, vocab_size, (32, 20))\n",
        "logits = model(images, questions)\n",
        "print(\"Output shape:\", logits.shape)"
      ]
    },
    {
      "cell_type": "markdown",
      "metadata": {
        "id": "FQbR5QMl_OzR"
      },
      "source": [
        "### **4. Training Loop [2pt]**\n",
        "\n",
        "This is the standard training loop. One requirement is that you need to use at least two forms of data augmentation. The required accuracy for this part is at minimum 40% overall accuracy across all types of questions. The result from this section and the next have to be reported in this [spreadsheet](https://docs.google.com/spreadsheets/d/1Iyc6_QH07X0xxTGX_4H1tY1TS5Xqj3VltDPBr3PKyiQ/edit?usp=sharing)."
      ]
    },
    {
      "cell_type": "code",
      "execution_count": 51,
      "metadata": {
        "colab": {
          "base_uri": "https://localhost:8080/"
        },
        "id": "VDScYmxc_QZm",
        "outputId": "0b0be9aa-cbc6-4637-e549-038d2e3f38bc"
      },
      "outputs": [
        {
          "output_type": "stream",
          "name": "stdout",
          "text": [
            "Vocabulary size: 56\n"
          ]
        },
        {
          "output_type": "stream",
          "name": "stderr",
          "text": [
            "<ipython-input-51-c3b5ec8bf0a8>:82: FutureWarning: `torch.cuda.amp.GradScaler(args...)` is deprecated. Please use `torch.amp.GradScaler('cuda', args...)` instead.\n",
            "  scaler = torch.cuda.amp.GradScaler()\n"
          ]
        }
      ],
      "source": [
        "# ============================================================\n",
        "# Create Vocabulary for the tokenizer.\n",
        "# ============================================================\n",
        "train_annotations_file = \"ShapesQA_trainset/annotations.json\"\n",
        "val_annotations_file   = \"ShapesQA_valset/annotations.json\"\n",
        "train_image_dir = \"ShapesQA_trainset\"\n",
        "val_image_dir   = \"ShapesQA_valset\"\n",
        "\n",
        "with open(train_annotations_file, \"r\") as f:\n",
        "    train_annotations = json.load(f)\n",
        "with open(val_annotations_file, \"r\") as f:\n",
        "    val_annotations = json.load(f)\n",
        "\n",
        "all_train_questions = [ann[\"question\"] for ann in train_annotations]\n",
        "vocab = build_vocab(all_train_questions, min_freq=1)\n",
        "vocab_size = len(vocab)\n",
        "print(\"Vocabulary size:\", vocab_size)\n",
        "\n",
        "# ============================================================\n",
        "# Create Datasets and DataLoaders\n",
        "# ============================================================\n",
        "# You are required to make some changes here as specified earlier.\n",
        "train_image_transform = transforms.Compose([\n",
        "    transforms.ToTensor(),\n",
        "    transforms.RandomResizedCrop((256, 256)),\n",
        "    transforms.RandomHorizontalFlip(),\n",
        "    transforms.ColorJitter(brightness=0.2, contrast=0.2, saturation=0.2),\n",
        "    transforms.Normalize(mean=[0.5, 0.5, 0.5], std=[0.5, 0.5, 0.5])\n",
        "])\n",
        "\n",
        "image_transform = transforms.Compose([\n",
        "    transforms.ToTensor(),\n",
        "    transforms.Resize((256, 256)),\n",
        "    transforms.Normalize(mean=[0.5, 0.5, 0.5], std=[0.5, 0.5, 0.5])\n",
        "])\n",
        "\n",
        "train_dataset = ShapesQADataset(annotations=train_annotations_file,\n",
        "                           image_dir=train_image_dir,\n",
        "                           vocab=vocab,\n",
        "                           transform=train_image_transform,\n",
        "                           max_question_len=20)\n",
        "val_dataset = ShapesQADataset(annotations=val_annotations_file,\n",
        "                         image_dir=val_image_dir,\n",
        "                         vocab=vocab,\n",
        "                         transform=image_transform,\n",
        "                         max_question_len=20)\n",
        "\n",
        "train_loader = DataLoader(train_dataset, batch_size=16, shuffle=True, collate_fn=collate_fn)\n",
        "val_loader = DataLoader(val_dataset, batch_size=16, shuffle=False, collate_fn=collate_fn)\n",
        "\n",
        "# ============================================================\n",
        "# Initialize Model, Loss, and Optimizer\n",
        "# ============================================================\n",
        "\n",
        "num_answers = 15  # e.g., 6 colors + 3 shapes + 6 count answers\n",
        "model = VQAModel(vocab_size, num_answers=num_answers)\n",
        "\n",
        "device = torch.device(\"cuda\" if torch.cuda.is_available() else \"cpu\")\n",
        "model = model.to(device)\n",
        "\n",
        "criterion = nn.CrossEntropyLoss()\n",
        "\n",
        "# Feel free to change this to whatever you consider most appropriate.\n",
        "optimizer = optim.AdamW(model.parameters(), lr=1e-4, weight_decay=1e-2)\n",
        "scheduler = optim.lr_scheduler.ReduceLROnPlateau(optimizer, mode='max', factor=0.5, patience=5)\n",
        "\n",
        "# ============================================================\n",
        "# Training and Validation Loops with Livelossplot\n",
        "# ============================================================\n",
        "# NOTE: Feel free to modify any of the code below. This is just what worked\n",
        "# for me with the model I created.\n",
        "\n",
        "from livelossplot import PlotLosses\n",
        "\n",
        "liveplot = PlotLosses()\n",
        "# Feel free to change any hyperparameters here.\n",
        "num_epochs = 30  # Total epochs\n",
        "\n",
        "# Define the epoch at which to unfreeze the CNN branch.\n",
        "freeze_epochs = 20 # Freeze for the first 18 epochs, unfreeze for the last 2 epochs\n",
        "\n",
        "scaler = torch.cuda.amp.GradScaler()\n",
        "\n",
        "def train_model(model, optimizer, train_loader, val_loader, num_epochs, freeze_epochs):\n",
        "\n",
        "    best_val_acc = 0.0\n",
        "    best_model_state = None\n",
        "\n",
        "    for epoch in range(num_epochs):\n",
        "        # Unfreeze CNN parameters at the start of epoch freeze_epochs.\n",
        "        if epoch == freeze_epochs:\n",
        "            print(\"Unfreezing CNN parameters for fine-tuning...\")\n",
        "            for param in model.cnn.parameters():\n",
        "                param.requires_grad = True\n",
        "            # Update the optimizer to include the newly unfrozen CNN parameters.\n",
        "            # optimizer = optim.SGD(filter(lambda p: p.requires_grad, model.parameters()), lr=1e-4)\n",
        "\n",
        "        model.train()\n",
        "        train_loss = 0.0\n",
        "        correct_train = 0\n",
        "        total_train = 0\n",
        "\n",
        "        for batch in train_loader:\n",
        "            images = batch[\"image\"].to(device)         # (batch, 3, H, W)\n",
        "            questions = batch[\"question\"].to(device)     # (batch, max_question_len)\n",
        "            answers = batch[\"answer\"].to(device)         # (batch,)\n",
        "\n",
        "            attention_mask = (questions != 0).long().to(device)\n",
        "\n",
        "            optimizer.zero_grad()\n",
        "\n",
        "            with torch.cuda.amp.autocast():\n",
        "              logits = model(images, questions,attention_mask)            # (batch, num_answers)\n",
        "              loss = criterion(logits, answers)\n",
        "\n",
        "            scaler.scale(loss).backward()\n",
        "            torch.nn.utils.clip_grad_norm_(model.parameters(), max_norm=1.0)\n",
        "            scaler.step(optimizer)\n",
        "            scaler.update()\n",
        "\n",
        "            train_loss += loss.item()\n",
        "            preds = torch.argmax(logits, dim=1)\n",
        "            correct_train += (preds == answers).sum().item()\n",
        "            total_train += answers.size(0)\n",
        "\n",
        "        avg_train_loss = train_loss / len(train_loader)\n",
        "        train_acc = correct_train / total_train\n",
        "\n",
        "        model.eval()\n",
        "        val_loss = 0.0\n",
        "        correct_val = 0\n",
        "        total_val = 0\n",
        "        with torch.no_grad():\n",
        "            for batch in val_loader:\n",
        "                images = batch[\"image\"].to(device)\n",
        "                questions = batch[\"question\"].to(device)\n",
        "                answers = batch[\"answer\"].to(device)\n",
        "\n",
        "                attention_mask = (questions != 0).long().to(device)\n",
        "\n",
        "                logits = model(images, questions,attention_mask)\n",
        "                loss = criterion(logits, answers)\n",
        "                val_loss += loss.item()\n",
        "\n",
        "                preds = torch.argmax(logits, dim=1)\n",
        "                correct_val += (preds == answers).sum().item()\n",
        "                total_val += answers.size(0)\n",
        "\n",
        "        avg_val_loss = val_loss / len(val_loader)\n",
        "        val_acc = correct_val / total_val\n",
        "\n",
        "        if val_acc > best_val_acc:\n",
        "            best_val_acc = val_acc\n",
        "            best_model_state = model.state_dict()\n",
        "\n",
        "        scheduler.step(val_acc)\n",
        "\n",
        "        liveplot.update({\n",
        "            'loss': avg_train_loss,\n",
        "            'accuracy': train_acc,\n",
        "            'val_loss': avg_val_loss,\n",
        "            'val_accuracy': val_acc,\n",
        "        })\n",
        "        liveplot.send()\n",
        "\n",
        "        print(f\"Epoch {epoch+1}/{num_epochs}: Train Loss = {avg_train_loss:.4f}, Train Acc = {train_acc:.4f}, \"\n",
        "            f\"Val Loss = {avg_val_loss:.4f}, Val Acc = {val_acc:.4f}\")\n",
        "\n",
        "    model.load_state_dict(best_model_state)\n",
        "    return model"
      ]
    },
    {
      "cell_type": "code",
      "execution_count": null,
      "metadata": {
        "colab": {
          "base_uri": "https://localhost:8080/",
          "height": 720
        },
        "id": "dKr8-_BQGe4a",
        "outputId": "1c5f2117-a515-4280-c64f-06f1acf7683e"
      },
      "outputs": [
        {
          "output_type": "display_data",
          "data": {
            "text/plain": [
              "<Figure size 1200x800 with 2 Axes>"
            ],
            "image/png": "[encoded data removed]"
          },
          "metadata": {}
        },
        {
          "output_type": "stream",
          "name": "stdout",
          "text": [
            "accuracy\n",
            "\ttraining         \t (min:    0.124, max:    0.654, cur:    0.654)\n",
            "\tvalidation       \t (min:    0.133, max:    0.438, cur:    0.406)\n",
            "Loss\n",
            "\ttraining         \t (min:    0.886, max:    2.568, cur:    0.886)\n",
            "\tvalidation       \t (min:    1.342, max:    3.319, cur:    1.534)\n",
            "Epoch 30/30: Train Loss = 0.8860, Train Acc = 0.6540, Val Loss = 1.5337, Val Acc = 0.4060\n"
          ]
        }
      ],
      "source": [
        "model = train_model(model, optimizer, train_loader, val_loader, num_epochs, freeze_epochs)"
      ]
    },
    {
      "cell_type": "markdown",
      "metadata": {
        "id": "1ESsdciGoByP"
      },
      "source": [
        "### **5. Further Evaluating this model**"
      ]
    },
    {
      "cell_type": "markdown",
      "metadata": {
        "id": "wn6-P0QQoHF1"
      },
      "source": [
        "Let's evaluate the model again but now let's breakdown its performance by type of question. Report your results in this [spreadsheet](https://docs.google.com/spreadsheets/d/1Iyc6_QH07X0xxTGX_4H1tY1TS5Xqj3VltDPBr3PKyiQ/edit?usp=sharing):"
      ]
    },
    {
      "cell_type": "code",
      "execution_count": null,
      "metadata": {
        "colab": {
          "base_uri": "https://localhost:8080/"
        },
        "id": "ojBeOB7LLpih",
        "outputId": "41e47e28-4770-4130-829c-0be4668adc85"
      },
      "outputs": [
        {
          "output_type": "stream",
          "name": "stdout",
          "text": [
            "\n",
            "Validation Accuracy per Question Type:\n",
            "  Question type 'count': Accuracy = 0.3123 (99/317)\n",
            "  Question type 'extreme': Accuracy = 0.3709 (112/302)\n",
            "  Question type 'unique': Accuracy = 0.5238 (176/336)\n",
            "  Question type 'left_right': Accuracy = 0.4222 (19/45)\n"
          ]
        }
      ],
      "source": [
        "# --- Compute accuracy per question type on the validation set ---\n",
        "model.eval()\n",
        "type_correct = {}  # Dictionary to count correct predictions per type.\n",
        "type_total = {}    # Dictionary to count total samples per type.\n",
        "\n",
        "with torch.no_grad():\n",
        "    for batch in val_loader:\n",
        "        images = batch[\"image\"].to(device)\n",
        "        questions = batch[\"question\"].to(device)\n",
        "        answers = batch[\"answer\"].to(device)\n",
        "        q_types = batch[\"question_type\"]  # List of question type strings for this batch\n",
        "\n",
        "        attention_mask = (questions != 0).long().to(device)\n",
        "        logits = model(images, questions, attention_mask)  # (batch, num_answers)\n",
        "        preds = torch.argmax(logits, dim=1)  # (batch,)\n",
        "\n",
        "        # Loop over each sample in the batch.\n",
        "        for i, qt in enumerate(q_types):\n",
        "            if qt not in type_total:\n",
        "                type_total[qt] = 0\n",
        "                type_correct[qt] = 0\n",
        "            type_total[qt] += 1\n",
        "            if preds[i] == answers[i]:\n",
        "                type_correct[qt] += 1\n",
        "\n",
        "print(\"\\nValidation Accuracy per Question Type:\")\n",
        "for qt in type_total:\n",
        "    accuracy = type_correct[qt] / type_total[qt]\n",
        "    print(f\"  Question type '{qt}': Accuracy = {accuracy:.4f} ({type_correct[qt]}/{type_total[qt]})\")"
      ]
    },
    {
      "cell_type": "code",
      "execution_count": null,
      "metadata": {
        "colab": {
          "base_uri": "https://localhost:8080/",
          "height": 697
        },
        "id": "vn6I3UxtaYyl",
        "outputId": "90e058b0-bb6f-44d0-bbe6-67d538e6bc03"
      },
      "outputs": [
        {
          "output_type": "stream",
          "name": "stderr",
          "text": [
            "WARNING:matplotlib.image:Clipping input data to the valid range for imshow with RGB data ([0..1] for floats or [0..255] for integers). Got range [-1.0..1.0].\n"
          ]
        },
        {
          "output_type": "display_data",
          "data": {
            "text/plain": [
              "<Figure size 600x600 with 1 Axes>"
            ],
            "image/png": "[encoded data removed]"
          },
          "metadata": {}
        },
        {
          "output_type": "stream",
          "name": "stdout",
          "text": [
            "Original Question:\n",
            "What color is the biggest circle in the image?\n",
            "\n",
            "Ground Truth Answer:\n",
            "green\n",
            "\n",
            "Predicted Answer:\n",
            "green\n"
          ]
        }
      ],
      "source": [
        "# ============================================================\n",
        "#  Display a Sample Prediction from Validation Set\n",
        "# ============================================================\n",
        "\n",
        "# Define the answer mapping (same as used in your dataset)\n",
        "answer2idx = {\n",
        "    \"red\": 0, \"blue\": 1, \"green\": 2, \"yellow\": 3, \"purple\": 4, \"orange\": 5,\n",
        "    \"circle\": 6, \"square\": 7, \"triangle\": 8,\n",
        "    \"0\": 9, \"1\": 10, \"2\": 11, \"3\": 12, \"4\": 13, \"5\": 14\n",
        "}\n",
        "idx2answer = {v: k for k, v in answer2idx.items()}\n",
        "\n",
        "# --- Display a sample prediction from the validation set ---\n",
        "\n",
        "# Pick a random index from the validation dataset\n",
        "val_idx = random.randint(0, len(val_dataset) - 1)\n",
        "sample = val_dataset[val_idx]  # sample from the custom Dataset; contains tokenized question, image, label\n",
        "val_annotations = json.load(open(val_annotations_file))\n",
        "\n",
        "# Retrieve the original annotation for the chosen sample\n",
        "original_ann = val_annotations[val_idx]\n",
        "original_question = original_ann[\"question\"]\n",
        "ground_truth_answer = str(original_ann[\"answer\"])\n",
        "\n",
        "# Prepare the sample for model prediction (add batch dimension)\n",
        "model.eval()\n",
        "image = sample[\"image\"].unsqueeze(0).to(device)        # shape: (1, 3, H, W)\n",
        "question = sample[\"question\"].unsqueeze(0).to(device)    # shape: (1, max_question_len)\n",
        "with torch.no_grad():\n",
        "    logits = model(image, question)                      # shape: (1, num_answers)\n",
        "    pred_idx = torch.argmax(logits, dim=1).item()\n",
        "predicted_answer = idx2answer[pred_idx]\n",
        "\n",
        "# Display the image\n",
        "sample_img = image[0].cpu().permute(1, 2, 0).numpy()\n",
        "plt.figure(figsize=(6,6))\n",
        "plt.imshow(sample_img)\n",
        "plt.axis(\"off\")\n",
        "plt.title(\"Validation Sample\")\n",
        "plt.show()\n",
        "\n",
        "# Print the original question, ground truth answer, and predicted answer\n",
        "print(\"Original Question:\")\n",
        "print(original_question)\n",
        "print(\"\\nGround Truth Answer:\")\n",
        "print(ground_truth_answer)\n",
        "print(\"\\nPredicted Answer:\")\n",
        "print(predicted_answer)"
      ]
    },
    {
      "cell_type": "markdown",
      "metadata": {
        "id": "BfXTD6GFrXMo"
      },
      "source": [
        "## **Assignment Questions**"
      ]
    },
    {
      "cell_type": "markdown",
      "metadata": {
        "id": "RQUDTO2GrfRj"
      },
      "source": [
        "#### **1. Random Guesser Accuracy [0.5pts]**\n",
        "What is the accuracy of a model that takes a random guess to provide an answer and ignores the input question and input image? Show your calculation in the cell below."
      ]
    },
    {
      "cell_type": "code",
      "execution_count": null,
      "metadata": {
        "id": "tVA9qE14rs5p",
        "colab": {
          "base_uri": "https://localhost:8080/"
        },
        "outputId": "c682286f-bc5b-4df3-c0e4-8179a42ba404"
      },
      "outputs": [
        {
          "output_type": "stream",
          "name": "stdout",
          "text": [
            "Expected accuracy of a random guess model: 6.6667%\n"
          ]
        }
      ],
      "source": [
        "# Your code or logic goes here.\n",
        "\n",
        "#by logic, every answer in a random guess model has equal probability\n",
        "\n",
        "train_annotations_file = \"ShapesQA_trainset/annotations.json\"\n",
        "\n",
        "with open(train_annotations_file, \"r\") as f:\n",
        "    train_annotations = json.load(f)\n",
        "\n",
        "answer_counts = Counter(ann[\"answer\"] for ann in train_annotations)\n",
        "num_answers = len(answer_counts)\n",
        "\n",
        "random_guess_acc = 1/num_answers\n",
        "print(f\"Expected accuracy of a random guess model: {random_guess_acc:.4%}\")\n"
      ]
    },
    {
      "cell_type": "markdown",
      "metadata": {
        "id": "ZxvHQKPQrtaf"
      },
      "source": [
        "#### **2. Zero-knowledge Accuracy [0.5pts]**\n",
        "What is the accuracy of a model that guesses but takes advantage of the probability distribution of answers in the training set. Show your calculation in the cell below."
      ]
    },
    {
      "cell_type": "code",
      "execution_count": null,
      "metadata": {
        "id": "hDitsFB78Beh",
        "colab": {
          "base_uri": "https://localhost:8080/"
        },
        "outputId": "25fc8e72-ba47-4bab-f95f-df919de63d3b"
      },
      "outputs": [
        {
          "output_type": "stream",
          "name": "stdout",
          "text": [
            "Expected accuracy of biased random guess model: 0.0957\n"
          ]
        }
      ],
      "source": [
        "# Your code or logic goes here.\n",
        "\n",
        "train_annotations_file = \"ShapesQA_trainset/annotations.json\"\n",
        "with open(train_annotations_file, \"r\") as f:\n",
        "    train_annotations = json.load(f)\n",
        "\n",
        "answer_counts = Counter(ann[\"answer\"] for ann in train_annotations)\n",
        "total_answers = sum(answer_counts.values())\n",
        "answer_probabilities = {answer: count / total_answers for answer, count in answer_counts.items()}\n",
        "\n",
        "expected_accuracy = sum(prob**2 for prob in answer_probabilities.values())\n",
        "\n",
        "print(f\"Expected accuracy of biased random guess model: {expected_accuracy:.4f}\")"
      ]
    },
    {
      "cell_type": "markdown",
      "metadata": {
        "id": "7twHl1itr--s"
      },
      "source": [
        "#### **3. Oracle-question Guesser Accuracy [1pt]**\n",
        "What is the accuracy of a model that has a way of knowing exactly the type of question being asked but guesses randomly conditioned on this knowledge. Assume that the types of questions are equally distributed in the training and validation sets. Show your calculations in the cell below."
      ]
    },
    {
      "cell_type": "code",
      "execution_count": null,
      "metadata": {
        "id": "eYdcaSfisMfz",
        "colab": {
          "base_uri": "https://localhost:8080/"
        },
        "outputId": "b85d39c7-b615-44f4-c9c7-72fe945de2d3"
      },
      "outputs": [
        {
          "output_type": "stream",
          "name": "stdout",
          "text": [
            "Expected accuracy of a model that guesses randomly per question type: 0.1944\n"
          ]
        }
      ],
      "source": [
        "# Your code or logic goes here.\n",
        "\n",
        "from collections import defaultdict\n",
        "\n",
        "train_annotations_file = \"ShapesQA_trainset/annotations.json\"\n",
        "with open(train_annotations_file, \"r\") as f:\n",
        "    train_annotations = json.load(f)\n",
        "\n",
        "#group answers by question type\n",
        "question_type_to_answers = defaultdict(set)\n",
        "\n",
        "for ann in train_annotations:\n",
        "  question_type = ann[\"question_type\"]\n",
        "  answer = ann[\"answer\"]\n",
        "  question_type_to_answers[question_type].add(answer)\n",
        "\n",
        "question_type_probabilities = {q_type: 1/len(answers) for q_type, answers in question_type_to_answers.items()}\n",
        "expected_accuracy = sum(question_type_probabilities.values()) / len(question_type_probabilities)\n",
        "\n",
        "print(f\"Expected accuracy of a model that guesses randomly per question type: {expected_accuracy:.4f}\")"
      ]
    },
    {
      "cell_type": "markdown",
      "metadata": {
        "id": "lvhEClKhbZ1-"
      },
      "source": [
        "#### **4. Extra Data Generation [2pts]**"
      ]
    },
    {
      "cell_type": "markdown",
      "metadata": {
        "id": "eFWBDWeyMztX"
      },
      "source": [
        "Train a better model by generating more training data. You are encouraged to use a coding assistant to generate more data that is as close as possible as the training data provided for the assignment. Include your prompts here and/or link to the coding assistant history. In any case, include here code for generating the extra data. Use up to 10x the amount of training images. You are required to improve your base model by at least 5% without changing anything in the model. Your results should be reported in this [spreadsheet](https://docs.google.com/spreadsheets/d/1mqy9p5HN4KK_LQIz2sGFR_eFezkcr53o-MBTtfSjzXE/edit?usp=sharing)."
      ]
    },
    {
      "cell_type": "markdown",
      "source": [
        "ChatGPT 4o chat: https://chatgpt.com/share/67bd3f3f-09a4-800e-a858-84e5d834cf7a\n"
      ],
      "metadata": {
        "id": "aElpVbpLHIZi"
      }
    },
    {
      "cell_type": "code",
      "source": [
        "import os\n",
        "import json\n",
        "import random\n",
        "import shutil\n",
        "from PIL import Image, ImageDraw\n",
        "from typing import List, Dict, Optional\n",
        "\n",
        "image_size = 256\n",
        "num_samples = 9000\n",
        "output_dir = \"ShapesQA_generated\"\n",
        "annotations_file = \"ShapesQA_generated/annotations.json\"\n",
        "\n",
        "# constants to randomly choose from\n",
        "colors = [\"red\", \"blue\", \"green\", \"yellow\", \"purple\", \"orange\"]\n",
        "shapes = [\"circle\", \"square\", \"triangle\"]\n",
        "question_types = [\"count\", \"unique\", \"extreme\", \"left_right\"]\n",
        "count_phrasings = [  # 0:color, 1:shape\n",
        "    \"How many {0} {1}s are in the image?\",\n",
        "    \"What is the number of {0} {1}s in the picture?\",\n",
        "    \"Count the {0} {1}s in the image.\",\n",
        "    \"Can you tell me how many {0} {1}s are in the image?\",\n",
        "    \"What is the total count of {0} {1}s in the picture?\",\n",
        "    \"Identify the number of {0} {1}s present in the image.\",\n",
        "    \"Give me the count of {0} {1}s in this picture.\",\n",
        "    \"How many instances of {0} {1}s do you see in the image?\",\n",
        "    \"Please determine the number of {0} {1}s in the image.\",\n",
        "    \"Find and count all the {0} {1}s in the picture.\"\n",
        "]\n",
        "left_right_phrasings = [  # 0:color, 1:shape\n",
        "    \"Which color is the object found to the right of the {0} {1}?\",\n",
        "    \"Which color is the object located to the left of the {0} {1}?\",\n",
        "    \"What is the color of the object to the right of the {0} {1}?\",\n",
        "    \"What color is the object positioned to the left of the {0} {1}?\",\n",
        "    \"Identify the color of the object that appears to the right of the {0} {1}.\",\n",
        "    \"Tell me the color of the object found to the left of the {0} {1}.\",\n",
        "    \"To the right of the {0} {1}, what color is the object?\",\n",
        "    \"To the left of the {0} {1}, what color is the object?\",\n",
        "    \"Which colored object is immediately to the right of the {0} {1}?\",\n",
        "    \"Which colored object is immediately to the left of the {0} {1}?\",\n",
        "    \"What is the color of the object directly to the right of the {0} {1}?\",\n",
        "    \"What is the color of the object directly to the left of the {0} {1}?\",\n",
        "    \"Look to the right of the {0} {1}. What color is the object there?\",\n",
        "    \"Look to the left of the {0} {1}. What color is the object there?\",\n",
        "    \"Find the object to the right of the {0} {1}. What color is it?\",\n",
        "    \"Find the object to the left of the {0} {1}. What color is it?\"\n",
        "]\n",
        "unique_phrasings = [  # 0:shape\n",
        "    \"What is the color of the {0}?\",\n",
        "    \"Can you tell me the color of the {0}?\",\n",
        "    \"What color is the {0}?\",\n",
        "    \"Identify the color of the {0}.\",\n",
        "    \"Which color does the {0} have?\",\n",
        "    \"Tell me the color of the {0}.\",\n",
        "    \"What shade is the {0}?\",\n",
        "    \"Determine the color of the {0}.\",\n",
        "    \"What hue is the {0}?\",\n",
        "    \"Could you specify the color of the {0}?\",\n",
        "    \"Do you know the color of the {0}?\",\n",
        "    \"Find out the color of the {0}.\",\n",
        "    \"State the color of the {0}.\",\n",
        "    \"Which color describes the {0}?\",\n",
        "    \"Describe the color of the {0}.\"\n",
        "]\n",
        "extreme_phrasings = [  # 0:extreme_type, 1:shape\n",
        "    \"What is the color of the {0} {1}?\",\n",
        "    \"Can you tell me the color of the {0} {1}?\",\n",
        "    \"What color is the {0} {1}?\",\n",
        "    \"Identify the color of the {0} {1}.\",\n",
        "    \"Which color does the {0} {1} have?\",\n",
        "    \"Tell me the color of the {0} {1}.\",\n",
        "    \"What shade is the {0} {1}?\",\n",
        "    \"Determine the color of the {0} {1}.\",\n",
        "    \"What hue is the {0} {1}?\",\n",
        "    \"Could you specify the color of the {0} {1}?\",\n",
        "    \"Do you know the color of the {0} {1}?\",\n",
        "    \"Find out the color of the {0} {1}.\",\n",
        "    \"State the color of the {0} {1}.\",\n",
        "    \"Which color describes the {0} {1}?\",\n",
        "    \"Describe the color of the {0} {1}.\",\n",
        "    \"What is the hue of the {0} {1}?\",\n",
        "    \"Which hue best represents the {0} {1}?\",\n",
        "    \"What distinct color does the {0} {1} have?\",\n",
        "    \"Can you determine the color of the {0} {1}?\",\n",
        "    \"Observe the {0} {1} and state its color.\"\n",
        "]\n",
        "\n",
        "# copy all the data from original trainset into new trainset\n",
        "def setup_directory():\n",
        "    if os.path.exists(output_dir):\n",
        "        shutil.rmtree(output_dir)\n",
        "    os.makedirs(output_dir, exist_ok=True)\n",
        "    source_dir = \"ShapesQA_trainset\"\n",
        "    for file_name in os.listdir(source_dir):\n",
        "        source_path = os.path.join(source_dir, file_name)\n",
        "        destination_path = os.path.join(output_dir, file_name)\n",
        "        if os.path.isfile(source_path) and file_name != \"annotations.json\":\n",
        "            shutil.copy2(source_path, destination_path)\n",
        "\n",
        "    source_annotations = os.path.join(source_dir, \"annotations.json\")\n",
        "    if os.path.exists(source_annotations):\n",
        "        destination_annotations = annotations_file\n",
        "        with open(source_annotations, \"r\") as f:\n",
        "            existing_annotations = json.load(f)\n",
        "        with open(destination_annotations, \"w\") as f:\n",
        "            json.dump(existing_annotations, f)\n",
        "        print(f\"Copied annotations.json with {len(existing_annotations)} entries.\")\n",
        "\n",
        "    num_files = len([f for f in os.listdir(output_dir) if os.path.isfile(os.path.join(output_dir, f))])\n",
        "    print(f\"Number of files in '{output_dir}': {num_files}\")\n",
        "\n",
        "# check if shapes overlap\n",
        "def shapes_overlap(shape1, shape2):\n",
        "    x1, y1, x2, y2 = shape1[\"coords\"]\n",
        "    x3, y3, x4, y4 = shape2[\"coords\"]\n",
        "    return not (x2 < x3 or x1 > x4 or y2 < y3 or y1 > y4)\n",
        "\n",
        "# generate a random shape\n",
        "def generate_shape(draw, existing_shapes, color, shape):\n",
        "    max_attempts = 100\n",
        "    for _ in range(max_attempts):\n",
        "        size = random.randint(20, 50)\n",
        "        x = random.randint(0, image_size - size)\n",
        "        y = random.randint(0, image_size - size)\n",
        "        coords = [x, y, x + size, y + size]\n",
        "        new_shape = {\"shape\": shape, \"color\": color, \"size\": size, \"coords\": coords}\n",
        "        if not any(shapes_overlap(new_shape, existing) for existing in existing_shapes):\n",
        "            if shape == \"circle\":\n",
        "                draw.ellipse(coords, fill=color)\n",
        "            elif shape == \"square\":\n",
        "                draw.rectangle(coords, fill=color)\n",
        "            elif shape == \"triangle\":\n",
        "                triangle_coords = [(x, y + size), (x + size, y + size), (x + size // 2, y)]\n",
        "                draw.polygon(triangle_coords, fill=color)\n",
        "            return new_shape\n",
        "    generate_shape(draw, existing_shapes, color, shape)\n",
        "\n",
        "# generate a random question from given templates\n",
        "def generate_question(shapes_in_image):\n",
        "    question_type = random.choice(question_types)\n",
        "\n",
        "    if question_type == \"count\":\n",
        "        # asks how many of a certain colored shape there is\n",
        "        color = random.choice(colors)\n",
        "        shape = random.choice(shapes)\n",
        "        question = random.choice(count_phrasings).format(color,shape)\n",
        "        answer = str(sum(1 for s in shapes_in_image if s[\"color\"] == color and s[\"shape\"] == shape))\n",
        "\n",
        "    elif question_type == \"unique\":\n",
        "        # ask for the color of shapes that appear exactly once\n",
        "        shape_counts = {}\n",
        "        for s in shapes_in_image:\n",
        "            shape_counts[s[\"shape\"]] = shape_counts.get(s[\"shape\"], 0) + 1\n",
        "        unique_shapes = [shape for shape, count in shape_counts.items() if count == 1]\n",
        "        if not unique_shapes:\n",
        "            return generate_question(shapes_in_image)\n",
        "        shape = random.choice(unique_shapes)\n",
        "        question = random.choice(unique_phrasings).format(shape)\n",
        "        answer = next(s[\"color\"] for s in shapes_in_image if s[\"shape\"] == shape)\n",
        "\n",
        "    elif question_type == \"extreme\":\n",
        "        # asks for the color of the largest/smallest of a specified shape\n",
        "        extreme_type = random.choice([\"largest\", \"smallest\"])\n",
        "        shape_groups = {}\n",
        "        for s in shapes_in_image:\n",
        "            if s[\"shape\"] not in shape_groups:\n",
        "                shape_groups[s[\"shape\"]] = []\n",
        "            shape_groups[s[\"shape\"]].append(s)\n",
        "        shape = random.choice(list(shape_groups.keys()))\n",
        "        question = random.choice(extreme_phrasings).format(extreme_type, shape)\n",
        "        shapes_of_type = shape_groups[shape]\n",
        "        answer = max(shapes_of_type, key=lambda x: x[\"size\"])[\"color\"] if extreme_type == \"largest\" \\\n",
        "                else min(shapes_of_type, key=lambda x: x[\"size\"])[\"color\"]\n",
        "\n",
        "    elif question_type == \"left_right\":\n",
        "        # asks for the color of the shape to the left/right of a given color and shape\n",
        "        reference_object = random.choice(shapes_in_image[1:-1])\n",
        "        ref_index = shapes_in_image.index(reference_object)\n",
        "        direction = random.choice([\"left\", \"right\"])\n",
        "\n",
        "        target_object = None\n",
        "        if direction == \"left\" and ref_index > 0:\n",
        "            target_object = shapes_in_image[ref_index - 1]\n",
        "        elif direction == \"right\" and ref_index < len(shapes_in_image) - 1:\n",
        "            target_object = shapes_in_image[ref_index + 1]\n",
        "\n",
        "        if target_object:\n",
        "            question = random.choice(left_right_phrasings).format(reference_object[\"color\"], reference_object[\"shape\"])\n",
        "            answer = target_object[\"color\"]\n",
        "\n",
        "    return {\"question\": question, \"answer\": answer, \"question_type\": question_type}\n",
        "\n",
        "\n",
        "setup_directory()\n",
        "annotations = []\n",
        "\n",
        "for i in range(1001,1001+num_samples):\n",
        "    image = Image.new(\"RGB\", (image_size, image_size), \"black\")\n",
        "    draw = ImageDraw.Draw(image)\n",
        "\n",
        "    #generate shapes\n",
        "    shapes_in_image = []\n",
        "    num_shapes = 5\n",
        "    attempts = 0\n",
        "    max_attempts = 50\n",
        "\n",
        "    # add random color/shapes into a list\n",
        "    while len(shapes_in_image) < num_shapes and attempts < max_attempts:\n",
        "        color = random.choice(colors)\n",
        "        shape = random.choice(shapes)\n",
        "        shape_info = generate_shape(draw, shapes_in_image, color, shape)\n",
        "\n",
        "        if shape_info:\n",
        "            shapes_in_image.append(shape_info)\n",
        "        attempts += 1\n",
        "\n",
        "    # save image file and update annotations\n",
        "    if len(shapes_in_image) == num_shapes:\n",
        "        image_filename = f\"synthetic_{i:04d}.png\"\n",
        "        image_path = os.path.join(output_dir, image_filename)\n",
        "        image.save(image_path)\n",
        "\n",
        "        qa_pair = generate_question(shapes_in_image)\n",
        "        annotation = {\n",
        "            \"image\": image_filename,\n",
        "            \"question\": qa_pair[\"question\"],\n",
        "            \"answer\": qa_pair[\"answer\"],\n",
        "            \"question_type\": qa_pair[\"question_type\"]\n",
        "        }\n",
        "        annotations.append(annotation)\n",
        "\n",
        "print(annotations[-1])\n",
        "\n",
        "#save annotations\n",
        "with open(annotations_file, \"w\") as f:\n",
        "    json.dump(annotations, f)\n",
        "\n",
        "print(f\"Generated {len(annotations)} valid samples.\")\n",
        "print(f\"Number of files in '{output_dir}': {len(os.listdir(output_dir))}\")"
      ],
      "metadata": {
        "colab": {
          "base_uri": "https://localhost:8080/"
        },
        "id": "fLjkUPvPzKdh",
        "outputId": "2d57148f-b457-42c4-c4cb-6fde78452ca8"
      },
      "execution_count": 43,
      "outputs": [
        {
          "output_type": "stream",
          "name": "stdout",
          "text": [
            "Copied annotations.json with 1000 entries.\n",
            "Number of files in 'ShapesQA_generated': 1001\n",
            "{'image': 'synthetic_10000.png', 'question': 'Find the object to the right of the red circle. What color is it?', 'answer': 'red', 'question_type': 'left_right'}\n",
            "Generated 9000 valid samples.\n",
            "Number of files in 'ShapesQA_generated': 10001\n"
          ]
        }
      ]
    },
    {
      "cell_type": "markdown",
      "metadata": {
        "id": "Ig08A3pDBPXw"
      },
      "source": [
        "Training Loop"
      ]
    },
    {
      "cell_type": "code",
      "source": [
        "train_dataset = ShapesQADataset(annotations=\"ShapesQA_generated/annotations.json\",\n",
        "                           vocab = None,\n",
        "                           image_dir=\"ShapesQA_generated\")\n",
        "\n",
        "def show_sample(sample, idx, annotations):\n",
        "    image_tensor = sample[\"image\"]\n",
        "    image_np = image_tensor.permute(1, 2, 0).numpy()\n",
        "    plt.figure(figsize=(5,5))\n",
        "    plt.imshow(image_np); plt.axis(\"off\")\n",
        "    plt.title(\"ShapesQA Sample\"); plt.show()\n",
        "    print(\"Image file name:\", annotations[idx][\"image\"])\n",
        "    print(\"Question:\", sample[\"question\"])\n",
        "    print(\"Answer:\", train_dataset.idx2answer[sample[\"answer\"].item()])\n",
        "    print(\"Question type:\", sample[\"question_type\"])\n",
        "\n",
        "# Display a random sample.\n",
        "sample_idx = random.randint(0, len(train_dataset) - 1)\n",
        "print(sample_idx)\n",
        "sample = train_dataset[sample_idx]\n",
        "show_sample(sample, sample_idx, train_dataset.annotations)"
      ],
      "metadata": {
        "colab": {
          "base_uri": "https://localhost:8080/",
          "height": 531
        },
        "id": "UTJLRQpTza57",
        "outputId": "c4cea2e2-4ee2-4c67-e988-cdb2cc335b5b"
      },
      "execution_count": 48,
      "outputs": [
        {
          "output_type": "stream",
          "name": "stdout",
          "text": [
            "7431\n"
          ]
        },
        {
          "output_type": "display_data",
          "data": {
            "text/plain": [
              "<Figure size 500x500 with 1 Axes>"
            ],
            "image/png": "[encoded data removed]"
          },
          "metadata": {}
        },
        {
          "output_type": "stream",
          "name": "stdout",
          "text": [
            "Image file name: synthetic_8432.png\n",
            "Question: Count the yellow circles in the image.\n",
            "Answer: 0\n",
            "Question type: count\n"
          ]
        }
      ]
    },
    {
      "cell_type": "code",
      "execution_count": 52,
      "metadata": {
        "colab": {
          "base_uri": "https://localhost:8080/"
        },
        "id": "5UYKdyzV6lyu",
        "outputId": "4066bf23-7811-4db9-9349-d325b928b7a8"
      },
      "outputs": [
        {
          "output_type": "stream",
          "name": "stdout",
          "text": [
            "9000\n",
            "Vocabulary size: 83\n",
            "Trainset length:  9000\n",
            "Valset length:  1000\n"
          ]
        },
        {
          "output_type": "stream",
          "name": "stderr",
          "text": [
            "<ipython-input-52-166b026f3896>:85: FutureWarning: `torch.cuda.amp.GradScaler(args...)` is deprecated. Please use `torch.amp.GradScaler('cuda', args...)` instead.\n",
            "  scaler = torch.cuda.amp.GradScaler()\n"
          ]
        }
      ],
      "source": [
        "# Your training loop goes here.\n",
        "\n",
        "# ============================================================\n",
        "# Create Vocabulary for the tokenizer.\n",
        "# ============================================================\n",
        "generated_annotations_file = \"ShapesQA_generated/annotations.json\"\n",
        "val_annotations_file = \"ShapesQA_valset/annotations.json\"\n",
        "\n",
        "with open(generated_annotations_file, \"r\") as f:\n",
        "    generated_annotations = json.load(f)\n",
        "\n",
        "with open(val_annotations_file, \"r\") as f:\n",
        "    val_annotations = json.load(f)\n",
        "\n",
        "print(len(generated_annotations))\n",
        "\n",
        "all_train_questions = [ann[\"question\"] for ann in generated_annotations]\n",
        "vocab = build_vocab(all_train_questions, min_freq=1)\n",
        "vocab_size = len(vocab)\n",
        "print(\"Vocabulary size:\", vocab_size)\n",
        "\n",
        "# ============================================================\n",
        "# Create Datasets and DataLoaders\n",
        "# ============================================================\n",
        "train_image_transform = transforms.Compose([\n",
        "    transforms.Resize((256,256)),\n",
        "    transforms.ToTensor(),\n",
        "    transforms.RandomHorizontalFlip(),\n",
        "    transforms.Normalize(mean=[0.5, 0.5, 0.5], std=[0.5, 0.5, 0.5])\n",
        "])\n",
        "\n",
        "image_transform = transforms.Compose([\n",
        "    transforms.ToTensor(),\n",
        "    transforms.Resize((256, 256)),\n",
        "    transforms.Normalize(mean=[0.5, 0.5, 0.5], std=[0.5, 0.5, 0.5])\n",
        "])\n",
        "\n",
        "train_dataset = ShapesQADataset(\n",
        "    annotations=generated_annotations_file,\n",
        "    image_dir=\"ShapesQA_generated\",\n",
        "    vocab=vocab,\n",
        "    transform=train_image_transform,\n",
        "    max_question_len=20\n",
        ")\n",
        "\n",
        "val_dataset = ShapesQADataset(\n",
        "    annotations=val_annotations_file,\n",
        "    image_dir=\"ShapesQA_valset\",\n",
        "    vocab=vocab,\n",
        "    transform=image_transform,\n",
        "    max_question_len=20\n",
        ")\n",
        "\n",
        "train_loader = DataLoader(train_dataset, batch_size=16, shuffle=True, collate_fn=collate_fn)\n",
        "val_loader = DataLoader(val_dataset, batch_size=16, shuffle=False, collate_fn=collate_fn)\n",
        "\n",
        "print(\"Trainset length: \", len(train_dataset))\n",
        "print(\"Valset length: \", len(val_dataset))\n",
        "\n",
        "# ============================================================\n",
        "# Initialize Model, Loss, and Optimizer\n",
        "# ============================================================\n",
        "# num_answers = 15  # e.g., 6 colors + 3 shapes + 6 count answers\n",
        "# model = VQAModel(vocab_size, num_answers=num_answers)\n",
        "\n",
        "device = torch.device(\"cuda\" if torch.cuda.is_available() else \"cpu\")\n",
        "model = model.to(device)\n",
        "\n",
        "criterion = nn.CrossEntropyLoss()\n",
        "\n",
        "optimizer = optim.AdamW(model.parameters(), lr=1e-4, weight_decay=1e-2)\n",
        "scheduler = optim.lr_scheduler.ReduceLROnPlateau(optimizer, mode='max', factor=0.5, patience=5)\n",
        "\n",
        "# ============================================================\n",
        "# Training and Validation Loops with Livelossplot\n",
        "# ============================================================\n",
        "from livelossplot import PlotLosses\n",
        "\n",
        "liveplot = PlotLosses()\n",
        "num_epochs = 30\n",
        "\n",
        "# Define the epoch at which to unfreeze the CNN branch.\n",
        "freeze_epochs = 20 # Freeze for the first 18 epochs, unfreeze for the last 2 epochs\n",
        "\n",
        "scaler = torch.cuda.amp.GradScaler()\n",
        "\n",
        "def train_model(model, optimizer, train_loader, val_loader, num_epochs, freeze_epochs):\n",
        "\n",
        "    best_val_acc = 0.0\n",
        "    best_model_state = None\n",
        "\n",
        "    for epoch in range(num_epochs):\n",
        "        # Unfreeze CNN parameters at the start of epoch freeze_epochs.\n",
        "        if epoch == freeze_epochs:\n",
        "            print(\"Unfreezing CNN parameters for fine-tuning...\")\n",
        "            for param in model.cnn.parameters():\n",
        "                param.requires_grad = True\n",
        "\n",
        "        model.train()\n",
        "        train_loss = 0.0\n",
        "        correct_train = 0\n",
        "        total_train = 0\n",
        "\n",
        "        for batch in train_loader:\n",
        "            images = batch[\"image\"].to(device)         # (batch, 3, H, W)\n",
        "            questions = batch[\"question\"].to(device)     # (batch, max_question_len)\n",
        "            answers = batch[\"answer\"].to(device)         # (batch,)\n",
        "\n",
        "            attention_mask = (questions != 0).long().to(device)\n",
        "\n",
        "            optimizer.zero_grad()\n",
        "\n",
        "            with torch.cuda.amp.autocast():\n",
        "              logits = model(images, questions,attention_mask)            # (batch, num_answers)\n",
        "              loss = criterion(logits, answers)\n",
        "\n",
        "            scaler.scale(loss).backward()\n",
        "            torch.nn.utils.clip_grad_norm_(model.parameters(), max_norm=1.0)\n",
        "            scaler.step(optimizer)\n",
        "            scaler.update()\n",
        "\n",
        "            train_loss += loss.item()\n",
        "            preds = torch.argmax(logits, dim=1)\n",
        "            correct_train += (preds == answers).sum().item()\n",
        "            total_train += answers.size(0)\n",
        "\n",
        "        avg_train_loss = train_loss / len(train_loader)\n",
        "        train_acc = correct_train / total_train\n",
        "\n",
        "        model.eval()\n",
        "        val_loss = 0.0\n",
        "        correct_val = 0\n",
        "        total_val = 0\n",
        "        with torch.no_grad():\n",
        "            for batch in val_loader:\n",
        "                images = batch[\"image\"].to(device)\n",
        "                questions = batch[\"question\"].to(device)\n",
        "                answers = batch[\"answer\"].to(device)\n",
        "\n",
        "                attention_mask = (questions != 0).long().to(device)\n",
        "\n",
        "                logits = model(images, questions,attention_mask)\n",
        "                loss = criterion(logits, answers)\n",
        "                val_loss += loss.item()\n",
        "\n",
        "                preds = torch.argmax(logits, dim=1)\n",
        "                correct_val += (preds == answers).sum().item()\n",
        "                total_val += answers.size(0)\n",
        "\n",
        "        avg_val_loss = val_loss / len(val_loader)\n",
        "        val_acc = correct_val / total_val\n",
        "\n",
        "        if val_acc > best_val_acc:\n",
        "            best_val_acc = val_acc\n",
        "            best_model_state = model.state_dict()\n",
        "\n",
        "        scheduler.step(val_acc)\n",
        "\n",
        "        liveplot.update({\n",
        "            'loss': avg_train_loss,\n",
        "            'accuracy': train_acc,\n",
        "            'val_loss': avg_val_loss,\n",
        "            'val_accuracy': val_acc,\n",
        "        })\n",
        "        liveplot.send()\n",
        "\n",
        "        print(f\"Epoch {epoch+1}/{num_epochs}: Train Loss = {avg_train_loss:.4f}, Train Acc = {train_acc:.4f}, \"\n",
        "            f\"Val Loss = {avg_val_loss:.4f}, Val Acc = {val_acc:.4f}\")\n",
        "\n",
        "    model.load_state_dict(best_model_state)\n",
        "    return model"
      ]
    },
    {
      "cell_type": "code",
      "source": [
        "model = train_model(model, optimizer, train_loader, val_loader, num_epochs, freeze_epochs)"
      ],
      "metadata": {
        "id": "6Kf1KSU5Xo6V"
      },
      "execution_count": null,
      "outputs": []
    },
    {
      "cell_type": "markdown",
      "metadata": {
        "id": "daEb1TzyCP-k"
      },
      "source": [
        "#### **5. Revisiting Assignment 1: Zero-shot Image Classification with CLIP [3pts]**"
      ]
    },
    {
      "cell_type": "markdown",
      "metadata": {
        "id": "qgNU2hUtep3H"
      },
      "source": [
        "\n",
        "\n",
        "In January 2021, OpenAI published a research paper named CLIP ([Contrastive Language-Image Pretraining](https://arxiv.org/abs/2103.00020)) https://openai.com/blog/clip/. This model was trained to maximize the dot product between vector representations of text and images that have a direct correspondence and minimize their dot product when they do not correspond. One key property of this model is that it can be used to build zero-shot classifier. Since the model was trained on a large number of images and text from the web, this model knows about a lot of categories of things. Your goal in this section is to obtain the best results using the illustrated approach in this figure for the scene classification problem of Assignment 1 (SUN20). Please enter the best classification accuracy in the [leaderboard](https://docs.google.com/spreadsheets/d/1mKXal0_abpq3cyAisfjI1xnWxNfIsYxvej5GPcrDf5M/edit?usp=sharing) here using CLIP. [To get full points obtain more than 94% accuracy and your code should run in less than 60 seconds]. Feel free to use other versions of CLIP, e.g. MetaCLIP (https://github.com/facebookresearch/MetaCLIP), OpenCLIP (https://github.com/mlfoundations/open_clip), EVA-CLIP (https://github.com/baaivision/EVA).\n",
        "\n",
        "![Screen Shot 2022-02-28 at 12.38.21 AM.png](data:image/png;base64,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)"
      ]
    },
    {
      "cell_type": "code",
      "execution_count": null,
      "metadata": {
        "id": "ye4V2RJ-fN0m",
        "colab": {
          "base_uri": "https://localhost:8080/"
        },
        "outputId": "b6634e6a-9bef-4bf8-e383-1cd076fbba55"
      },
      "outputs": [
        {
          "output_type": "stream",
          "name": "stdout",
          "text": [
            "File ‘SUN20-train-sm.tar.gz’ already there; not retrieving.\n",
            "\n",
            "File ‘SUN20-val.tar.gz’ already there; not retrieving.\n",
            "\n",
            "Collecting git+https://github.com/openai/CLIP.git\n",
            "  Cloning https://github.com/openai/CLIP.git to /tmp/pip-req-build-qjuwiokn\n",
            "  Running command git clone --filter=blob:none --quiet https://github.com/openai/CLIP.git /tmp/pip-req-build-qjuwiokn\n",
            "  Resolved https://github.com/openai/CLIP.git to commit dcba3cb2e2827b402d2701e7e1c7d9fed8a20ef1\n",
            "  Preparing metadata (setup.py) ... \u001b[?25l\u001b[?25hdone\n",
            "Requirement already satisfied: ftfy in /usr/local/lib/python3.11/dist-packages (from clip==1.0) (6.3.1)\n",
            "Requirement already satisfied: packaging in /usr/local/lib/python3.11/dist-packages (from clip==1.0) (24.2)\n",
            "Requirement already satisfied: regex in /usr/local/lib/python3.11/dist-packages (from clip==1.0) (2024.11.6)\n",
            "Requirement already satisfied: tqdm in /usr/local/lib/python3.11/dist-packages (from clip==1.0) (4.67.1)\n",
            "Requirement already satisfied: torch in /usr/local/lib/python3.11/dist-packages (from clip==1.0) (2.5.1+cu124)\n",
            "Requirement already satisfied: torchvision in /usr/local/lib/python3.11/dist-packages (from clip==1.0) (0.20.1+cu124)\n",
            "Requirement already satisfied: wcwidth in /usr/local/lib/python3.11/dist-packages (from ftfy->clip==1.0) (0.2.13)\n",
            "Requirement already satisfied: filelock in /usr/local/lib/python3.11/dist-packages (from torch->clip==1.0) (3.17.0)\n",
            "Requirement already satisfied: typing-extensions>=4.8.0 in /usr/local/lib/python3.11/dist-packages (from torch->clip==1.0) (4.12.2)\n",
            "Requirement already satisfied: networkx in /usr/local/lib/python3.11/dist-packages (from torch->clip==1.0) (3.4.2)\n",
            "Requirement already satisfied: jinja2 in /usr/local/lib/python3.11/dist-packages (from torch->clip==1.0) (3.1.5)\n",
            "Requirement already satisfied: fsspec in /usr/local/lib/python3.11/dist-packages (from torch->clip==1.0) (2024.10.0)\n",
            "Requirement already satisfied: nvidia-cuda-nvrtc-cu12==12.4.127 in /usr/local/lib/python3.11/dist-packages (from torch->clip==1.0) (12.4.127)\n",
            "Requirement already satisfied: nvidia-cuda-runtime-cu12==12.4.127 in /usr/local/lib/python3.11/dist-packages (from torch->clip==1.0) (12.4.127)\n",
            "Requirement already satisfied: nvidia-cuda-cupti-cu12==12.4.127 in /usr/local/lib/python3.11/dist-packages (from torch->clip==1.0) (12.4.127)\n",
            "Requirement already satisfied: nvidia-cudnn-cu12==9.1.0.70 in /usr/local/lib/python3.11/dist-packages (from torch->clip==1.0) (9.1.0.70)\n",
            "Requirement already satisfied: nvidia-cublas-cu12==12.4.5.8 in /usr/local/lib/python3.11/dist-packages (from torch->clip==1.0) (12.4.5.8)\n",
            "Requirement already satisfied: nvidia-cufft-cu12==11.2.1.3 in /usr/local/lib/python3.11/dist-packages (from torch->clip==1.0) (11.2.1.3)\n",
            "Requirement already satisfied: nvidia-curand-cu12==10.3.5.147 in /usr/local/lib/python3.11/dist-packages (from torch->clip==1.0) (10.3.5.147)\n",
            "Requirement already satisfied: nvidia-cusolver-cu12==11.6.1.9 in /usr/local/lib/python3.11/dist-packages (from torch->clip==1.0) (11.6.1.9)\n",
            "Requirement already satisfied: nvidia-cusparse-cu12==12.3.1.170 in /usr/local/lib/python3.11/dist-packages (from torch->clip==1.0) (12.3.1.170)\n",
            "Requirement already satisfied: nvidia-nccl-cu12==2.21.5 in /usr/local/lib/python3.11/dist-packages (from torch->clip==1.0) (2.21.5)\n",
            "Requirement already satisfied: nvidia-nvtx-cu12==12.4.127 in /usr/local/lib/python3.11/dist-packages (from torch->clip==1.0) (12.4.127)\n",
            "Requirement already satisfied: nvidia-nvjitlink-cu12==12.4.127 in /usr/local/lib/python3.11/dist-packages (from torch->clip==1.0) (12.4.127)\n",
            "Requirement already satisfied: triton==3.1.0 in /usr/local/lib/python3.11/dist-packages (from torch->clip==1.0) (3.1.0)\n",
            "Requirement already satisfied: sympy==1.13.1 in /usr/local/lib/python3.11/dist-packages (from torch->clip==1.0) (1.13.1)\n",
            "Requirement already satisfied: mpmath<1.4,>=1.1.0 in /usr/local/lib/python3.11/dist-packages (from sympy==1.13.1->torch->clip==1.0) (1.3.0)\n",
            "Requirement already satisfied: numpy in /usr/local/lib/python3.11/dist-packages (from torchvision->clip==1.0) (1.26.4)\n",
            "Requirement already satisfied: pillow!=8.3.*,>=5.3.0 in /usr/local/lib/python3.11/dist-packages (from torchvision->clip==1.0) (11.1.0)\n",
            "Requirement already satisfied: MarkupSafe>=2.0 in /usr/local/lib/python3.11/dist-packages (from jinja2->torch->clip==1.0) (3.0.2)\n",
            "Requirement already satisfied: ftfy in /usr/local/lib/python3.11/dist-packages (6.3.1)\n",
            "Requirement already satisfied: regex in /usr/local/lib/python3.11/dist-packages (2024.11.6)\n",
            "Requirement already satisfied: tqdm in /usr/local/lib/python3.11/dist-packages (4.67.1)\n",
            "Requirement already satisfied: wcwidth in /usr/local/lib/python3.11/dist-packages (from ftfy) (0.2.13)\n",
            "Requirement already satisfied: open-clip-torch in /usr/local/lib/python3.11/dist-packages (2.31.0)\n",
            "Requirement already satisfied: torch>=1.9.0 in /usr/local/lib/python3.11/dist-packages (from open-clip-torch) (2.5.1+cu124)\n",
            "Requirement already satisfied: torchvision in /usr/local/lib/python3.11/dist-packages (from open-clip-torch) (0.20.1+cu124)\n",
            "Requirement already satisfied: regex in /usr/local/lib/python3.11/dist-packages (from open-clip-torch) (2024.11.6)\n",
            "Requirement already satisfied: ftfy in /usr/local/lib/python3.11/dist-packages (from open-clip-torch) (6.3.1)\n",
            "Requirement already satisfied: tqdm in /usr/local/lib/python3.11/dist-packages (from open-clip-torch) (4.67.1)\n",
            "Requirement already satisfied: huggingface-hub in /usr/local/lib/python3.11/dist-packages (from open-clip-torch) (0.28.1)\n",
            "Requirement already satisfied: safetensors in /usr/local/lib/python3.11/dist-packages (from open-clip-torch) (0.5.2)\n",
            "Requirement already satisfied: timm in /usr/local/lib/python3.11/dist-packages (from open-clip-torch) (1.0.14)\n",
            "Requirement already satisfied: filelock in /usr/local/lib/python3.11/dist-packages (from torch>=1.9.0->open-clip-torch) (3.17.0)\n",
            "Requirement already satisfied: typing-extensions>=4.8.0 in /usr/local/lib/python3.11/dist-packages (from torch>=1.9.0->open-clip-torch) (4.12.2)\n",
            "Requirement already satisfied: networkx in /usr/local/lib/python3.11/dist-packages (from torch>=1.9.0->open-clip-torch) (3.4.2)\n",
            "Requirement already satisfied: jinja2 in /usr/local/lib/python3.11/dist-packages (from torch>=1.9.0->open-clip-torch) (3.1.5)\n",
            "Requirement already satisfied: fsspec in /usr/local/lib/python3.11/dist-packages (from torch>=1.9.0->open-clip-torch) (2024.10.0)\n",
            "Requirement already satisfied: nvidia-cuda-nvrtc-cu12==12.4.127 in /usr/local/lib/python3.11/dist-packages (from torch>=1.9.0->open-clip-torch) (12.4.127)\n",
            "Requirement already satisfied: nvidia-cuda-runtime-cu12==12.4.127 in /usr/local/lib/python3.11/dist-packages (from torch>=1.9.0->open-clip-torch) (12.4.127)\n",
            "Requirement already satisfied: nvidia-cuda-cupti-cu12==12.4.127 in /usr/local/lib/python3.11/dist-packages (from torch>=1.9.0->open-clip-torch) (12.4.127)\n",
            "Requirement already satisfied: nvidia-cudnn-cu12==9.1.0.70 in /usr/local/lib/python3.11/dist-packages (from torch>=1.9.0->open-clip-torch) (9.1.0.70)\n",
            "Requirement already satisfied: nvidia-cublas-cu12==12.4.5.8 in /usr/local/lib/python3.11/dist-packages (from torch>=1.9.0->open-clip-torch) (12.4.5.8)\n",
            "Requirement already satisfied: nvidia-cufft-cu12==11.2.1.3 in /usr/local/lib/python3.11/dist-packages (from torch>=1.9.0->open-clip-torch) (11.2.1.3)\n",
            "Requirement already satisfied: nvidia-curand-cu12==10.3.5.147 in /usr/local/lib/python3.11/dist-packages (from torch>=1.9.0->open-clip-torch) (10.3.5.147)\n",
            "Requirement already satisfied: nvidia-cusolver-cu12==11.6.1.9 in /usr/local/lib/python3.11/dist-packages (from torch>=1.9.0->open-clip-torch) (11.6.1.9)\n",
            "Requirement already satisfied: nvidia-cusparse-cu12==12.3.1.170 in /usr/local/lib/python3.11/dist-packages (from torch>=1.9.0->open-clip-torch) (12.3.1.170)\n",
            "Requirement already satisfied: nvidia-nccl-cu12==2.21.5 in /usr/local/lib/python3.11/dist-packages (from torch>=1.9.0->open-clip-torch) (2.21.5)\n",
            "Requirement already satisfied: nvidia-nvtx-cu12==12.4.127 in /usr/local/lib/python3.11/dist-packages (from torch>=1.9.0->open-clip-torch) (12.4.127)\n",
            "Requirement already satisfied: nvidia-nvjitlink-cu12==12.4.127 in /usr/local/lib/python3.11/dist-packages (from torch>=1.9.0->open-clip-torch) (12.4.127)\n",
            "Requirement already satisfied: triton==3.1.0 in /usr/local/lib/python3.11/dist-packages (from torch>=1.9.0->open-clip-torch) (3.1.0)\n",
            "Requirement already satisfied: sympy==1.13.1 in /usr/local/lib/python3.11/dist-packages (from torch>=1.9.0->open-clip-torch) (1.13.1)\n",
            "Requirement already satisfied: mpmath<1.4,>=1.1.0 in /usr/local/lib/python3.11/dist-packages (from sympy==1.13.1->torch>=1.9.0->open-clip-torch) (1.3.0)\n",
            "Requirement already satisfied: wcwidth in /usr/local/lib/python3.11/dist-packages (from ftfy->open-clip-torch) (0.2.13)\n",
            "Requirement already satisfied: packaging>=20.9 in /usr/local/lib/python3.11/dist-packages (from huggingface-hub->open-clip-torch) (24.2)\n",
            "Requirement already satisfied: pyyaml>=5.1 in /usr/local/lib/python3.11/dist-packages (from huggingface-hub->open-clip-torch) (6.0.2)\n",
            "Requirement already satisfied: requests in /usr/local/lib/python3.11/dist-packages (from huggingface-hub->open-clip-torch) (2.32.3)\n",
            "Requirement already satisfied: numpy in /usr/local/lib/python3.11/dist-packages (from torchvision->open-clip-torch) (1.26.4)\n",
            "Requirement already satisfied: pillow!=8.3.*,>=5.3.0 in /usr/local/lib/python3.11/dist-packages (from torchvision->open-clip-torch) (11.1.0)\n",
            "Requirement already satisfied: MarkupSafe>=2.0 in /usr/local/lib/python3.11/dist-packages (from jinja2->torch>=1.9.0->open-clip-torch) (3.0.2)\n",
            "Requirement already satisfied: charset-normalizer<4,>=2 in /usr/local/lib/python3.11/dist-packages (from requests->huggingface-hub->open-clip-torch) (3.4.1)\n",
            "Requirement already satisfied: idna<4,>=2.5 in /usr/local/lib/python3.11/dist-packages (from requests->huggingface-hub->open-clip-torch) (3.10)\n",
            "Requirement already satisfied: urllib3<3,>=1.21.1 in /usr/local/lib/python3.11/dist-packages (from requests->huggingface-hub->open-clip-torch) (2.3.0)\n",
            "Requirement already satisfied: certifi>=2017.4.17 in /usr/local/lib/python3.11/dist-packages (from requests->huggingface-hub->open-clip-torch) (2025.1.31)\n"
          ]
        }
      ],
      "source": [
        "# This command downloads the files with the prepackaged contents.\n",
        "!wget -nc http://www.cs.rice.edu/~vo9/deep-vislang/SUN20-train-sm.tar.gz\n",
        "!wget -nc http://www.cs.rice.edu/~vo9/deep-vislang/SUN20-val.tar.gz\n",
        "!tar xf SUN20-train-sm.tar.gz\n",
        "!tar xf SUN20-val.tar.gz\n",
        "!pip install git+https://github.com/openai/CLIP.git\n",
        "!pip install ftfy regex tqdm\n",
        "!pip install open-clip-torch"
      ]
    },
    {
      "cell_type": "code",
      "source": [
        "import os, json, pickle, random\n",
        "import torch.utils.data\n",
        "from PIL import Image\n",
        "import matplotlib\n",
        "import matplotlib.pyplot as plt\n",
        "\n",
        "# Simple implementation of a custom data loading class for our SUN20 dataset.\n",
        "class SUN20(torch.utils.data.Dataset):\n",
        "\n",
        "  # Initialize the class e.g. load files, preprocess, etc.\n",
        "  def __init__(self, split = 'train', transform = None):\n",
        "\n",
        "    # These are the 20 categories selected.\n",
        "    self.categories = open(f'SUN20/{split}/ClassName.txt').read().strip().split('\\n')\n",
        "    self.categories = sorted(self.categories)\n",
        "    self.category2index = {cat: idx for idx, cat in enumerate(self.categories)}\n",
        "    self.transform = transform\n",
        "\n",
        "    # Compile a list of images and corresponding labels.\n",
        "    self.imagepaths, self.labels = [], []\n",
        "    for category in self.categories:\n",
        "        cat_dir = f'SUN20/{split}/{category}'\n",
        "        cat_imgs = os.listdir(cat_dir)\n",
        "        self.imagepaths += [os.path.join(cat_dir, img) for img in cat_imgs]\n",
        "        self.labels += [self.category2index[category]] * len(cat_imgs)\n",
        "\n",
        "\n",
        "    sorted_pairs = sorted(zip(self.imagepaths, self.labels), key=lambda x: x[0])\n",
        "    self.imagepaths, self.labels = zip(*sorted_pairs)\n",
        "\n",
        "\n",
        "  # Return a sample (x, y) as a tuple e.g. (image, label)\n",
        "   def __getitem__(self, idx):\n",
        "       image = Image.open(self.imagepaths[idx]).convert('RGB')\n",
        "       return (self.transform(image) if self.transform else image), self.labels[idx]\n",
        "\n",
        "  # Return the total number of samples.\n",
        "  def __len__(self):\n",
        "    return len(self.imagepaths)\n"
      ],
      "metadata": {
        "id": "suXBKvqVJ7o3"
      },
      "execution_count": null,
      "outputs": []
    },
    {
      "cell_type": "code",
      "source": [
        "import torch\n",
        "import clip\n",
        "import torchvision.transforms as transforms\n",
        "from torch.utils.data import DataLoader\n",
        "from PIL import Image\n",
        "import numpy as np\n",
        "import time\n",
        "import open_clip\n",
        "import os\n",
        "\n",
        "torch.backends.cudnn.benchmark = True\n",
        "\n",
        "# Load the largest CLIP model\n",
        "device = \"cuda\" if torch.cuda.is_available() else \"cpu\"\n",
        "model, _, preprocess = open_clip.create_model_and_transforms('ViT-L-14', pretrained='datacomp_xl_s13b_b90k')\n",
        "tokenizer = open_clip.get_tokenizer('ViT-L-14')\n",
        "model = model.half().to(device)\n",
        "\n",
        "# Dataset class with underscore handling\n",
        "class SUN20(torch.utils.data.Dataset):\n",
        "   def __init__(self, split='val', transform=None):\n",
        "       self.categories = [c.replace('_', ' ') for c in open(f'SUN20/{split}/ClassName.txt').read().splitlines()]\n",
        "       self.categories = sorted(self.categories)\n",
        "       self.category2index = {cat: idx for idx, cat in enumerate(self.categories)}\n",
        "       self.transform = transform\n",
        "\n",
        "       self.image_paths, self.labels = [], []\n",
        "       for cat in self.categories:\n",
        "           dir_name = cat.replace(' ', '_')\n",
        "           dir_path = f'SUN20/{split}/{dir_name}'\n",
        "           self.image_paths.extend([os.path.join(dir_path, img) for img in os.listdir(dir_path)])\n",
        "           self.labels.extend([self.category2index[cat]] * len(os.listdir(dir_path)))\n",
        "\n",
        "\n",
        "   def __getitem__(self, idx):\n",
        "       image = Image.open(self.image_paths[idx]).convert('RGB')\n",
        "       return self.transform(image), self.labels[idx]\n",
        "\n",
        "\n",
        "   def __len__(self):\n",
        "       return len(self.image_paths)\n",
        "\n",
        "# Enhanced scene-specific templates for SUN20\n",
        "prompt_templates = [\n",
        "    \"A photo of a {} scene\",\n",
        "    \"A landscape view of a {}\",\n",
        "    \"An indoor photo of a {}\",\n",
        "    \"A picture of a {} during the day\",\n",
        "    \"A picture of a {} at night\",\n",
        "    \"A dark and moody photo of a {}\",\n",
        "    \"An aerial view of a {}\",\n",
        "    \"A close-up shot of a {}\",\n",
        "    \"A wide-angle view of a {}\",\n",
        "    \"A photo of a {} with people in it\",\n",
        "    \"A professional photograph of a {}\",\n",
        "    \"An image of a {} taken with a DSLR camera\",\n",
        "    \"A realistic rendering of a {}\",\n",
        "    \"A blurred background photo of a {}\",\n",
        "    \"A sunny day in a {}\",\n",
        "    \"A rainy day in a {}\",\n",
        "    \"An autumn scene of a {}\",\n",
        "    \"A winter scene of a {}\",\n",
        "    \"A crowded {} scene\",\n",
        "    \"An empty {} scene\",\n",
        "    \"A bird's-eye view of a {}\",\n",
        "    \"An image of the {} at dusk\",\n",
        "    \"A view of a {} from a distance\",\n",
        "    \"An overcast day in a {}\",\n",
        "    \"A serene {} environment\",\n",
        "    \"a photo of a {}\", \"a view of {}\", \"a scene showing {}\",\n",
        "   \"a high quality image of {}\", \"aerial view of {}\", \"low angle shot of {}\",\n",
        "   \"brightly lit photo of {}\", \"dark scene of {}\", \"close-up of {}\",\n",
        "   \"wide angle view of {}\", \"sunset at {}\", \"overcast weather in {}\",\n",
        "   \"historic site of {}\", \"modern architecture of {}\", \"natural landscape of {}\",\n",
        "   \"indoor scene of {}\", \"outdoor view of {}\", \"nighttime photo of {}\",\n",
        "   \"winter scene of {}\", \"summer day at {}\", \"painting of {}\",\n",
        "   \"digital rendering of {}\", \"satellite image of {}\", \"blurry photo of {}\"\n",
        "]\n",
        "\n",
        "val_set = SUN20(split=\"val\", transform=preprocess)\n",
        "val_loader = DataLoader(val_set, batch_size=128, shuffle=False, num_workers=2, pin_memory=True)\n",
        "\n",
        "# Generate text embeddings\n",
        "text_inputs = torch.cat([tokenizer(template.format(cat)) for cat in val_set.categories for template in prompt_templates]).to(device)\n",
        "with torch.no_grad(), torch.amp.autocast(device_type='cuda', dtype=torch.float16):\n",
        "   text_features = model.encode_text(text_inputs)\n",
        "   text_features = text_features.view(len(val_set.categories), len(prompt_templates), -1).mean(1)\n",
        "   text_features /= text_features.norm(dim=-1, keepdim=True)\n",
        "\n",
        "\n",
        "# Inference with flip augmentation\n",
        "correct, total = 0, 0\n",
        "start_time = time.time()\n",
        "\n",
        "\n",
        "@torch.inference_mode()\n",
        "def infer_batch(images):\n",
        "   flipped = torch.flip(images, [3])\n",
        "   combined = torch.cat([images, flipped])\n",
        "   features = model.encode_image(combined.half())\n",
        "   return (features[:len(images)] + features[len(images):]) / 2\n",
        "\n",
        "\n",
        "model.eval()\n",
        "for images, labels in val_loader:\n",
        "   images, labels = images.to(device, non_blocking=True), labels.to(device)\n",
        "   features = infer_batch(images)\n",
        "   preds = (features.half() @ text_features.T).argmax(1)\n",
        "   correct += (preds == labels).sum().item()\n",
        "   total += labels.size(0)\n",
        "\n",
        "\n",
        "print(f\"Accuracy: {correct/total*100:.2f}% | Time: {time.time()-start_time:.1f}s\")\n"
      ],
      "metadata": {
        "colab": {
          "base_uri": "https://localhost:8080/"
        },
        "id": "p1KDfhfQJ_0b",
        "outputId": "9a0bd094-0a4e-4e31-ecf9-946ae7bd2f27"
      },
      "execution_count": null,
      "outputs": [
        {
          "output_type": "stream",
          "name": "stdout",
          "text": [
            "Accuracy: 94.40% | Time: 22.5s\n"
          ]
        }
      ]
    },
    {
      "cell_type": "markdown",
      "metadata": {
        "id": "6NTovWosf3do"
      },
      "source": [
        "#### **6. Use InternVL2.5 to solve the ShapesQA problem [2pts -- extra]**"
      ]
    },
    {
      "cell_type": "markdown",
      "metadata": {
        "id": "1QcczBKZgNQu"
      },
      "source": [
        "InternVL2.5 is a powerful family of Vision-Language-Models (VLMs). They are able to take input images and text and answer arbitrary questions. You can find how to use them here https://internvl.github.io/blog/2024-12-05-InternVL-2.5/. You can read more technical details about this model here https://arxiv.org/abs/2412.05271. Report the overall accuracy on the ShapesQA validation set using a  model from this family of models. Whichever model you can fit in the memory on Google Colab's GPU instances. Note: Finetuning or any type of training is not needed or allowed for this question. The model has to be used as-is. You only need to prompt it appropriately and compute the accuracy based on its answers."
      ]
    },
    {
      "cell_type": "code",
      "source": [],
      "metadata": {
        "id": "icMEjmRAS1_F"
      },
      "execution_count": null,
      "outputs": []
    }
  ],
  "metadata": {
    "accelerator": "GPU",
    "colab": {
      "collapsed_sections": [
        "zXO4YzsZ-nsb",
        "FQbR5QMl_OzR",
        "1ESsdciGoByP",
        "RQUDTO2GrfRj",
        "ZxvHQKPQrtaf",
        "7twHl1itr--s",
        "daEb1TzyCP-k",
        "6NTovWosf3do"
      ],
      "gpuType": "T4",
      "provenance": [],
      "include_colab_link": true
    },
    "kernelspec": {
      "display_name": "Python 3",
      "name": "python3"
    },
    "widgets": {
      "application/vnd.jupyter.widget-state+json": {
        "3fdfc9da86fd4796885dd5c1aadbd3ea": {
          "model_module": "@jupyter-widgets/controls",
          "model_name": "HBoxModel",
          "model_module_version": "1.5.0",
          "state": {
            "_dom_classes": [],
            "_model_module": "@jupyter-widgets/controls",
            "_model_module_version": "1.5.0",
            "_model_name": "HBoxModel",
            "_view_count": null,
            "_view_module": "@jupyter-widgets/controls",
            "_view_module_version": "1.5.0",
            "_view_name": "HBoxView",
            "box_style": "",
            "children": [
              "IPY_MODEL_8df2006ae9f0464dbd86dfdccb40a033",
              "IPY_MODEL_f639fe5db3354a459103fbc35065ff20",
              "IPY_MODEL_6afd315714fe45678537e38c8c143232"
            ],
            "layout": "IPY_MODEL_79652d4981a54f86bed68125705cc19d"
          }
        },
        "8df2006ae9f0464dbd86dfdccb40a033": {
          "model_module": "@jupyter-widgets/controls",
          "model_name": "HTMLModel",
          "model_module_version": "1.5.0",
          "state": {
            "_dom_classes": [],
            "_model_module": "@jupyter-widgets/controls",
            "_model_module_version": "1.5.0",
            "_model_name": "HTMLModel",
            "_view_count": null,
            "_view_module": "@jupyter-widgets/controls",
            "_view_module_version": "1.5.0",
            "_view_name": "HTMLView",
            "description": "",
            "description_tooltip": null,
            "layout": "IPY_MODEL_7ed5cdb7f99c4ade92307dd54df786a0",
            "placeholder": "​",
            "style": "IPY_MODEL_5c0a979524114f3895f59a461315de4a",
            "value": "model.safetensors: 100%"
          }
        },
        "f639fe5db3354a459103fbc35065ff20": {
          "model_module": "@jupyter-widgets/controls",
          "model_name": "FloatProgressModel",
          "model_module_version": "1.5.0",
          "state": {
            "_dom_classes": [],
            "_model_module": "@jupyter-widgets/controls",
            "_model_module_version": "1.5.0",
            "_model_name": "FloatProgressModel",
            "_view_count": null,
            "_view_module": "@jupyter-widgets/controls",
            "_view_module_version": "1.5.0",
            "_view_name": "ProgressView",
            "bar_style": "success",
            "description": "",
            "description_tooltip": null,
            "layout": "IPY_MODEL_920ddf62ca8d43c1b19333bc489a6a5c",
            "max": 440449768,
            "min": 0,
            "orientation": "horizontal",
            "style": "IPY_MODEL_233dda0a3d7b4594b218bc13b22d3488",
            "value": 440449768
          }
        },
        "6afd315714fe45678537e38c8c143232": {
          "model_module": "@jupyter-widgets/controls",
          "model_name": "HTMLModel",
          "model_module_version": "1.5.0",
          "state": {
            "_dom_classes": [],
            "_model_module": "@jupyter-widgets/controls",
            "_model_module_version": "1.5.0",
            "_model_name": "HTMLModel",
            "_view_count": null,
            "_view_module": "@jupyter-widgets/controls",
            "_view_module_version": "1.5.0",
            "_view_name": "HTMLView",
            "description": "",
            "description_tooltip": null,
            "layout": "IPY_MODEL_9f5943243e0b4bb3b9a4983006c628e4",
            "placeholder": "​",
            "style": "IPY_MODEL_9147451148c141d38cee489cb7b18221",
            "value": " 440M/440M [00:01&lt;00:00, 206MB/s]"
          }
        },
        "79652d4981a54f86bed68125705cc19d": {
          "model_module": "@jupyter-widgets/base",
          "model_name": "LayoutModel",
          "model_module_version": "1.2.0",
          "state": {
            "_model_module": "@jupyter-widgets/base",
            "_model_module_version": "1.2.0",
            "_model_name": "LayoutModel",
            "_view_count": null,
            "_view_module": "@jupyter-widgets/base",
            "_view_module_version": "1.2.0",
            "_view_name": "LayoutView",
            "align_content": null,
            "align_items": null,
            "align_self": null,
            "border": null,
            "bottom": null,
            "display": null,
            "flex": null,
            "flex_flow": null,
            "grid_area": null,
            "grid_auto_columns": null,
            "grid_auto_flow": null,
            "grid_auto_rows": null,
            "grid_column": null,
            "grid_gap": null,
            "grid_row": null,
            "grid_template_areas": null,
            "grid_template_columns": null,
            "grid_template_rows": null,
            "height": null,
            "justify_content": null,
            "justify_items": null,
            "left": null,
            "margin": null,
            "max_height": null,
            "max_width": null,
            "min_height": null,
            "min_width": null,
            "object_fit": null,
            "object_position": null,
            "order": null,
            "overflow": null,
            "overflow_x": null,
            "overflow_y": null,
            "padding": null,
            "right": null,
            "top": null,
            "visibility": null,
            "width": null
          }
        },
        "7ed5cdb7f99c4ade92307dd54df786a0": {
          "model_module": "@jupyter-widgets/base",
          "model_name": "LayoutModel",
          "model_module_version": "1.2.0",
          "state": {
            "_model_module": "@jupyter-widgets/base",
            "_model_module_version": "1.2.0",
            "_model_name": "LayoutModel",
            "_view_count": null,
            "_view_module": "@jupyter-widgets/base",
            "_view_module_version": "1.2.0",
            "_view_name": "LayoutView",
            "align_content": null,
            "align_items": null,
            "align_self": null,
            "border": null,
            "bottom": null,
            "display": null,
            "flex": null,
            "flex_flow": null,
            "grid_area": null,
            "grid_auto_columns": null,
            "grid_auto_flow": null,
            "grid_auto_rows": null,
            "grid_column": null,
            "grid_gap": null,
            "grid_row": null,
            "grid_template_areas": null,
            "grid_template_columns": null,
            "grid_template_rows": null,
            "height": null,
            "justify_content": null,
            "justify_items": null,
            "left": null,
            "margin": null,
            "max_height": null,
            "max_width": null,
            "min_height": null,
            "min_width": null,
            "object_fit": null,
            "object_position": null,
            "order": null,
            "overflow": null,
            "overflow_x": null,
            "overflow_y": null,
            "padding": null,
            "right": null,
            "top": null,
            "visibility": null,
            "width": null
          }
        },
        "5c0a979524114f3895f59a461315de4a": {
          "model_module": "@jupyter-widgets/controls",
          "model_name": "DescriptionStyleModel",
          "model_module_version": "1.5.0",
          "state": {
            "_model_module": "@jupyter-widgets/controls",
            "_model_module_version": "1.5.0",
            "_model_name": "DescriptionStyleModel",
            "_view_count": null,
            "_view_module": "@jupyter-widgets/base",
            "_view_module_version": "1.2.0",
            "_view_name": "StyleView",
            "description_width": ""
          }
        },
        "920ddf62ca8d43c1b19333bc489a6a5c": {
          "model_module": "@jupyter-widgets/base",
          "model_name": "LayoutModel",
          "model_module_version": "1.2.0",
          "state": {
            "_model_module": "@jupyter-widgets/base",
            "_model_module_version": "1.2.0",
            "_model_name": "LayoutModel",
            "_view_count": null,
            "_view_module": "@jupyter-widgets/base",
            "_view_module_version": "1.2.0",
            "_view_name": "LayoutView",
            "align_content": null,
            "align_items": null,
            "align_self": null,
            "border": null,
            "bottom": null,
            "display": null,
            "flex": null,
            "flex_flow": null,
            "grid_area": null,
            "grid_auto_columns": null,
            "grid_auto_flow": null,
            "grid_auto_rows": null,
            "grid_column": null,
            "grid_gap": null,
            "grid_row": null,
            "grid_template_areas": null,
            "grid_template_columns": null,
            "grid_template_rows": null,
            "height": null,
            "justify_content": null,
            "justify_items": null,
            "left": null,
            "margin": null,
            "max_height": null,
            "max_width": null,
            "min_height": null,
            "min_width": null,
            "object_fit": null,
            "object_position": null,
            "order": null,
            "overflow": null,
            "overflow_x": null,
            "overflow_y": null,
            "padding": null,
            "right": null,
            "top": null,
            "visibility": null,
            "width": null
          }
        },
        "233dda0a3d7b4594b218bc13b22d3488": {
          "model_module": "@jupyter-widgets/controls",
          "model_name": "ProgressStyleModel",
          "model_module_version": "1.5.0",
          "state": {
            "_model_module": "@jupyter-widgets/controls",
            "_model_module_version": "1.5.0",
            "_model_name": "ProgressStyleModel",
            "_view_count": null,
            "_view_module": "@jupyter-widgets/base",
            "_view_module_version": "1.2.0",
            "_view_name": "StyleView",
            "bar_color": null,
            "description_width": ""
          }
        },
        "9f5943243e0b4bb3b9a4983006c628e4": {
          "model_module": "@jupyter-widgets/base",
          "model_name": "LayoutModel",
          "model_module_version": "1.2.0",
          "state": {
            "_model_module": "@jupyter-widgets/base",
            "_model_module_version": "1.2.0",
            "_model_name": "LayoutModel",
            "_view_count": null,
            "_view_module": "@jupyter-widgets/base",
            "_view_module_version": "1.2.0",
            "_view_name": "LayoutView",
            "align_content": null,
            "align_items": null,
            "align_self": null,
            "border": null,
            "bottom": null,
            "display": null,
            "flex": null,
            "flex_flow": null,
            "grid_area": null,
            "grid_auto_columns": null,
            "grid_auto_flow": null,
            "grid_auto_rows": null,
            "grid_column": null,
            "grid_gap": null,
            "grid_row": null,
            "grid_template_areas": null,
            "grid_template_columns": null,
            "grid_template_rows": null,
            "height": null,
            "justify_content": null,
            "justify_items": null,
            "left": null,
            "margin": null,
            "max_height": null,
            "max_width": null,
            "min_height": null,
            "min_width": null,
            "object_fit": null,
            "object_position": null,
            "order": null,
            "overflow": null,
            "overflow_x": null,
            "overflow_y": null,
            "padding": null,
            "right": null,
            "top": null,
            "visibility": null,
            "width": null
          }
        },
        "9147451148c141d38cee489cb7b18221": {
          "model_module": "@jupyter-widgets/controls",
          "model_name": "DescriptionStyleModel",
          "model_module_version": "1.5.0",
          "state": {
            "_model_module": "@jupyter-widgets/controls",
            "_model_module_version": "1.5.0",
            "_model_name": "DescriptionStyleModel",
            "_view_count": null,
            "_view_module": "@jupyter-widgets/base",
            "_view_module_version": "1.2.0",
            "_view_name": "StyleView",
            "description_width": ""
          }
        }
      }
    }
  },
  "nbformat": 4,
  "nbformat_minor": 0
}